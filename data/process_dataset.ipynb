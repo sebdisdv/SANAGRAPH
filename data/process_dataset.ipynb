{
 "cells": [
  {
   "cell_type": "code",
   "execution_count": 1,
   "metadata": {},
   "outputs": [
    {
     "name": "stdout",
     "output_type": "stream",
     "text": [
      "/home/sebdis/ProcessMining/HGNN/HGNN_NA\n",
      "/home/sebdis/ProcessMining/HGNN/HGNN_NA/data/datasets/comuzzi/\n",
      "/home/sebdis/ProcessMining/HGNN/HGNN_NA/data/datasets/comuzzi/_processed/\n",
      "/home/sebdis/ProcessMining/HGNN/HGNN_NA/data/datasets/graphs_repair/\n"
     ]
    }
   ],
   "source": [
    "import pandas as pd\n",
    "import os\n",
    "from os.path import dirname\n",
    "\n",
    "\n",
    "root_path = dirname(os.getcwd())\n",
    "\n",
    "pd.set_option(\"display.max_columns\", None)\n",
    "data_dir = root_path + \"/data/datasets/comuzzi/\"\n",
    "data_dir_processed = root_path + \"/data/datasets/_processed/\"\n",
    "data_dir_graphs = root_path + \"/data/datasets/graphs_repair/\"\n",
    "\n",
    "print(root_path, data_dir, data_dir_processed, data_dir_graphs, sep=\"\\n\")"
   ]
  },
  {
   "cell_type": "code",
   "execution_count": 2,
   "metadata": {},
   "outputs": [],
   "source": [
    "#dataset = \"bpi_2013\"\n",
    "#dataset = \"bpi_2012\"\n",
    "#dataset = \"small_log\"\n",
    "#dataset = \"large_log\"\n",
    "\n",
    "#dataset = \"sp2020\"\n",
    "dataset = \"BPI20_RequestForPayment\""
   ]
  },
  {
   "cell_type": "code",
   "execution_count": 3,
   "metadata": {},
   "outputs": [],
   "source": [
    "nan_methods = [\"odd\", \"even\", \"window\", \"random\"]"
   ]
  },
  {
   "cell_type": "code",
   "execution_count": 4,
   "metadata": {},
   "outputs": [
    {
     "data": {
      "text/html": [
       "<div>\n",
       "<style scoped>\n",
       "    .dataframe tbody tr th:only-of-type {\n",
       "        vertical-align: middle;\n",
       "    }\n",
       "\n",
       "    .dataframe tbody tr th {\n",
       "        vertical-align: top;\n",
       "    }\n",
       "\n",
       "    .dataframe thead th {\n",
       "        text-align: right;\n",
       "    }\n",
       "</style>\n",
       "<table border=\"1\" class=\"dataframe\">\n",
       "  <thead>\n",
       "    <tr style=\"text-align: right;\">\n",
       "      <th></th>\n",
       "      <th>CaseID</th>\n",
       "      <th>Activity</th>\n",
       "      <th>CompleteTimestamp</th>\n",
       "      <th>org:resource</th>\n",
       "      <th>org:role</th>\n",
       "      <th>case:Project</th>\n",
       "      <th>case:Task</th>\n",
       "      <th>case:OrganizationalEntity</th>\n",
       "      <th>case:Cost Type</th>\n",
       "      <th>case:RequestedAmount</th>\n",
       "      <th>case:Activity</th>\n",
       "      <th>case:RfpNumber</th>\n",
       "      <th>CumTimeInterval</th>\n",
       "    </tr>\n",
       "  </thead>\n",
       "  <tbody>\n",
       "    <tr>\n",
       "      <th>0</th>\n",
       "      <td>1</td>\n",
       "      <td>Request For Payment SUBMITTED by EMPLOYEE</td>\n",
       "      <td>2017-01-09 09:17:18+00:00</td>\n",
       "      <td>STAFF MEMBER</td>\n",
       "      <td>EMPLOYEE</td>\n",
       "      <td>project 148216</td>\n",
       "      <td>UNKNOWN</td>\n",
       "      <td>organizational unit 65463</td>\n",
       "      <td>0</td>\n",
       "      <td>34.336343</td>\n",
       "      <td>UNKNOWN</td>\n",
       "      <td>request for payment number 148215</td>\n",
       "      <td>0.0</td>\n",
       "    </tr>\n",
       "    <tr>\n",
       "      <th>1</th>\n",
       "      <td>1</td>\n",
       "      <td>Request For Payment FINAL_APPROVED by SUPERVISOR</td>\n",
       "      <td>2017-01-09 09:18:00+00:00</td>\n",
       "      <td>STAFF MEMBER</td>\n",
       "      <td>SUPERVISOR</td>\n",
       "      <td>project 148216</td>\n",
       "      <td>UNKNOWN</td>\n",
       "      <td>organizational unit 65463</td>\n",
       "      <td>0</td>\n",
       "      <td>34.336343</td>\n",
       "      <td>UNKNOWN</td>\n",
       "      <td>request for payment number 148215</td>\n",
       "      <td>42.0</td>\n",
       "    </tr>\n",
       "    <tr>\n",
       "      <th>2</th>\n",
       "      <td>1</td>\n",
       "      <td>Request For Payment REJECTED by MISSING</td>\n",
       "      <td>2017-01-10 12:42:32+00:00</td>\n",
       "      <td>STAFF MEMBER</td>\n",
       "      <td>MISSING</td>\n",
       "      <td>project 148216</td>\n",
       "      <td>UNKNOWN</td>\n",
       "      <td>organizational unit 65463</td>\n",
       "      <td>0</td>\n",
       "      <td>34.336343</td>\n",
       "      <td>UNKNOWN</td>\n",
       "      <td>request for payment number 148215</td>\n",
       "      <td>98714.0</td>\n",
       "    </tr>\n",
       "    <tr>\n",
       "      <th>3</th>\n",
       "      <td>1</td>\n",
       "      <td>Request For Payment SUBMITTED by EMPLOYEE</td>\n",
       "      <td>2017-03-03 09:51:13+00:00</td>\n",
       "      <td>STAFF MEMBER</td>\n",
       "      <td>EMPLOYEE</td>\n",
       "      <td>project 148216</td>\n",
       "      <td>UNKNOWN</td>\n",
       "      <td>organizational unit 65463</td>\n",
       "      <td>0</td>\n",
       "      <td>34.336343</td>\n",
       "      <td>UNKNOWN</td>\n",
       "      <td>request for payment number 148215</td>\n",
       "      <td>4581235.0</td>\n",
       "    </tr>\n",
       "    <tr>\n",
       "      <th>4</th>\n",
       "      <td>1</td>\n",
       "      <td>Request For Payment APPROVED by PRE_APPROVER</td>\n",
       "      <td>2017-03-03 09:51:42+00:00</td>\n",
       "      <td>STAFF MEMBER</td>\n",
       "      <td>PRE_APPROVER</td>\n",
       "      <td>project 148216</td>\n",
       "      <td>UNKNOWN</td>\n",
       "      <td>organizational unit 65463</td>\n",
       "      <td>0</td>\n",
       "      <td>34.336343</td>\n",
       "      <td>UNKNOWN</td>\n",
       "      <td>request for payment number 148215</td>\n",
       "      <td>4581264.0</td>\n",
       "    </tr>\n",
       "  </tbody>\n",
       "</table>\n",
       "</div>"
      ],
      "text/plain": [
       "   CaseID                                          Activity  \\\n",
       "0       1         Request For Payment SUBMITTED by EMPLOYEE   \n",
       "1       1  Request For Payment FINAL_APPROVED by SUPERVISOR   \n",
       "2       1           Request For Payment REJECTED by MISSING   \n",
       "3       1         Request For Payment SUBMITTED by EMPLOYEE   \n",
       "4       1      Request For Payment APPROVED by PRE_APPROVER   \n",
       "\n",
       "           CompleteTimestamp  org:resource      org:role    case:Project  \\\n",
       "0  2017-01-09 09:17:18+00:00  STAFF MEMBER      EMPLOYEE  project 148216   \n",
       "1  2017-01-09 09:18:00+00:00  STAFF MEMBER    SUPERVISOR  project 148216   \n",
       "2  2017-01-10 12:42:32+00:00  STAFF MEMBER       MISSING  project 148216   \n",
       "3  2017-03-03 09:51:13+00:00  STAFF MEMBER      EMPLOYEE  project 148216   \n",
       "4  2017-03-03 09:51:42+00:00  STAFF MEMBER  PRE_APPROVER  project 148216   \n",
       "\n",
       "  case:Task  case:OrganizationalEntity  case:Cost Type  case:RequestedAmount  \\\n",
       "0   UNKNOWN  organizational unit 65463               0             34.336343   \n",
       "1   UNKNOWN  organizational unit 65463               0             34.336343   \n",
       "2   UNKNOWN  organizational unit 65463               0             34.336343   \n",
       "3   UNKNOWN  organizational unit 65463               0             34.336343   \n",
       "4   UNKNOWN  organizational unit 65463               0             34.336343   \n",
       "\n",
       "  case:Activity                     case:RfpNumber  CumTimeInterval  \n",
       "0       UNKNOWN  request for payment number 148215              0.0  \n",
       "1       UNKNOWN  request for payment number 148215             42.0  \n",
       "2       UNKNOWN  request for payment number 148215          98714.0  \n",
       "3       UNKNOWN  request for payment number 148215        4581235.0  \n",
       "4       UNKNOWN  request for payment number 148215        4581264.0  "
      ]
     },
     "execution_count": 4,
     "metadata": {},
     "output_type": "execute_result"
    }
   ],
   "source": [
    "raw_data = pd.read_csv(f\"{data_dir}/{dataset}/complete_df_full_even.csv\")\n",
    "raw_data.head()"
   ]
  },
  {
   "cell_type": "code",
   "execution_count": 5,
   "metadata": {},
   "outputs": [],
   "source": [
    "if dataset == \"sp2020\":\n",
    "    raw_data.fillna({\"org:resource\": \"EMPTY\"})"
   ]
  },
  {
   "cell_type": "code",
   "execution_count": 9,
   "metadata": {},
   "outputs": [
    {
     "data": {
      "text/plain": [
       "Index(['CaseID', 'Activity', 'CompleteTimestamp', 'org:resource', 'org:role',\n",
       "       'case:Project', 'case:Task', 'case:OrganizationalEntity',\n",
       "       'case:Cost Type', 'case:RequestedAmount', 'case:Activity',\n",
       "       'case:RfpNumber', 'CumTimeInterval'],\n",
       "      dtype='object')"
      ]
     },
     "execution_count": 9,
     "metadata": {},
     "output_type": "execute_result"
    }
   ],
   "source": [
    "raw_data.columns"
   ]
  },
  {
   "cell_type": "code",
   "execution_count": 5,
   "metadata": {},
   "outputs": [
    {
     "data": {
      "text/plain": [
       "'%Y-%m-%d %H:%M:%S%z'"
      ]
     },
     "execution_count": 5,
     "metadata": {},
     "output_type": "execute_result"
    }
   ],
   "source": [
    "if dataset == \"bpi_2013\" or dataset == \"small_log\" or dataset == \"large_log\" or dataset == \"sp2020\":\n",
    "    date_format = '%Y-%m-%d %H:%M:%S'\n",
    "elif dataset == \"bpi_2012\":\n",
    "    date_format = '%Y-%m-%d %H:%M:%S.%f'\n",
    "elif dataset == \"BPI20_RequestForPayment\":\n",
    "    date_format = \"%Y-%m-%d %H:%M:%S%z\"\n",
    "else:\n",
    "    date_format = '%Y/%m/%d %H:%M:%S.%f'\n",
    "date_format"
   ]
  },
  {
   "cell_type": "code",
   "execution_count": 6,
   "metadata": {},
   "outputs": [],
   "source": [
    "from datetime import datetime\n",
    "\n",
    "def translate_time(time_str):\n",
    "    return datetime.strptime(time_str, date_format).timestamp()"
   ]
  },
  {
   "cell_type": "code",
   "execution_count": 7,
   "metadata": {},
   "outputs": [],
   "source": [
    "train_dataset = pd.read_csv(f\"{data_dir}/{dataset}/complete_df_train_even.csv\")\n",
    "valid_dataset = pd.read_csv(f\"{data_dir}/{dataset}/complete_df_val_even.csv\")\n",
    "test_dataset = pd.read_csv(f\"{data_dir}/{dataset}/complete_df_test_even.csv\")"
   ]
  },
  {
   "cell_type": "code",
   "execution_count": 8,
   "metadata": {},
   "outputs": [],
   "source": [
    "masked_datasets = {key : pd.read_csv(f\"{data_dir}/{dataset}/missing_df_full_{key}.csv\") for key in nan_methods}"
   ]
  },
  {
   "cell_type": "code",
   "execution_count": 10,
   "metadata": {},
   "outputs": [],
   "source": [
    "if dataset == \"bpi_2013\" or dataset == \"bpi_2012\":\n",
    "    tab_all = raw_data.rename(columns={\"CompleteTimestamp\": \"time:timestamp\", \"Resource\": \"org:resource\"})\n",
    "    train_dataset = train_dataset.rename(columns={\"CompleteTimestamp\": \"time:timestamp\", \"Resource\": \"org:resource\"})\n",
    "    valid_dataset = valid_dataset.rename(columns={\"CompleteTimestamp\": \"time:timestamp\", \"Resource\": \"org:resource\"})\n",
    "    test_dataset = test_dataset.rename(columns={\"CompleteTimestamp\": \"time:timestamp\", \"Resource\": \"org:resource\"})\n",
    "    for k in masked_datasets:\n",
    "        masked_datasets[k] = masked_datasets[k].rename(columns={\"CompleteTimestamp\": \"time:timestamp\", \"Resource\": \"org:resource\"})\n",
    "elif dataset == \"small_log\" or dataset == \"large_log\" or dataset == \"sp2020\" or dataset == \"BPI20_RequestForPayment\":\n",
    "    tab_all = raw_data.rename(columns={\"CompleteTimestamp\": \"time:timestamp\"})\n",
    "    train_dataset = train_dataset.rename(columns={\"CompleteTimestamp\": \"time:timestamp\"})\n",
    "    valid_dataset = valid_dataset.rename(columns={\"CompleteTimestamp\": \"time:timestamp\"})\n",
    "    test_dataset = test_dataset.rename(columns={\"CompleteTimestamp\": \"time:timestamp\"})\n",
    "    for k in masked_datasets:\n",
    "        masked_datasets[k] = masked_datasets[k].rename(columns={\"CompleteTimestamp\": \"time:timestamp\"})\n"
   ]
  },
  {
   "cell_type": "code",
   "execution_count": 11,
   "metadata": {},
   "outputs": [],
   "source": [
    "tab_all[\"time:timestamp\"] = tab_all[\"time:timestamp\"].apply(translate_time)\n",
    "train_dataset[\"time:timestamp\"] = train_dataset[\"time:timestamp\"].apply(translate_time)\n",
    "valid_dataset[\"time:timestamp\"] = valid_dataset[\"time:timestamp\"].apply(translate_time)\n",
    "test_dataset[\"time:timestamp\"] = test_dataset[\"time:timestamp\"].apply(translate_time)\n",
    "\n",
    "for k in masked_datasets:\n",
    "    masked_datasets[k][\"time:timestamp\"] = [translate_time(x) if type(x) == str else x for x in  masked_datasets[k][\"time:timestamp\"].values]"
   ]
  },
  {
   "cell_type": "code",
   "execution_count": 12,
   "metadata": {},
   "outputs": [],
   "source": [
    "from math import log\n",
    " \n",
    "from numpy import NaN \n",
    "\n",
    "if dataset == \"bpi_2012\":\n",
    "    tab_all[\"(case) AMOUNT_REQ\"] = [log(x) if x > 0 else x if x is NaN else 0. for x in  tab_all[\"(case) AMOUNT_REQ\"].values]\n",
    "    train_dataset[\"(case) AMOUNT_REQ\"] = [log(x) if x > 0 else x if x is NaN else 0. for x in  train_dataset[\"(case) AMOUNT_REQ\"].values]\n",
    "    valid_dataset[\"(case) AMOUNT_REQ\"] = [log(x) if x > 0 else x if x is NaN else 0. for x in  valid_dataset[\"(case) AMOUNT_REQ\"].values]\n",
    "    test_dataset[\"(case) AMOUNT_REQ\"] = [log(x) if x > 0 else x if x is NaN else 0. for x in  test_dataset[\"(case) AMOUNT_REQ\"].values]\n",
    "\n",
    "    for k in masked_datasets:\n",
    "        masked_datasets[k][\"(case) AMOUNT_REQ\"] = [log(x) if x > 0 else x if x is NaN else 0. for x in  masked_datasets[k][\"(case) AMOUNT_REQ\"].values]"
   ]
  },
  {
   "cell_type": "code",
   "execution_count": 13,
   "metadata": {},
   "outputs": [],
   "source": [
    "tab_all = tab_all.drop(columns=[\"CumTimeInterval\"])\n",
    "train_dataset = train_dataset.drop(columns=[\"CumTimeInterval\"])\n",
    "valid_dataset = valid_dataset.drop(columns=[\"CumTimeInterval\"])\n",
    "test_dataset = test_dataset.drop(columns=[\"CumTimeInterval\"])\n",
    "\n",
    "for k in masked_datasets:\n",
    "    masked_datasets[k] = masked_datasets[k].drop(columns=[\"CumTimeInterval\"])"
   ]
  },
  {
   "cell_type": "code",
   "execution_count": 14,
   "metadata": {},
   "outputs": [
    {
     "data": {
      "text/plain": [
       "1483953438.0"
      ]
     },
     "execution_count": 14,
     "metadata": {},
     "output_type": "execute_result"
    }
   ],
   "source": [
    "min = tab_all[\"time:timestamp\"].min()\n",
    "min"
   ]
  },
  {
   "cell_type": "code",
   "execution_count": 15,
   "metadata": {},
   "outputs": [],
   "source": [
    "from numpy import NaN\n",
    "\n",
    "\n",
    "tab_all[\"time:timestamp\"] -= min\n",
    "train_dataset[\"time:timestamp\"] -= min\n",
    "valid_dataset[\"time:timestamp\"] -= min \n",
    "test_dataset[\"time:timestamp\"] -= min \n",
    "\n",
    "for k in masked_datasets:\n",
    "    masked_datasets[k][\"time:timestamp\"] = [x-min if x is not NaN else x for x in  masked_datasets[k][\"time:timestamp\"].values]"
   ]
  },
  {
   "cell_type": "code",
   "execution_count": null,
   "metadata": {},
   "outputs": [],
   "source": [
    "masked_datasets[\"even\"]"
   ]
  },
  {
   "cell_type": "code",
   "execution_count": 16,
   "metadata": {},
   "outputs": [],
   "source": [
    "from math import log\n",
    "\n",
    "tab_all[\"time:timestamp\"] = [log(x) if x > 0 else 0. for x in tab_all[\"time:timestamp\"].values ]\n",
    "train_dataset[\"time:timestamp\"] = [log(x) if x > 0 else 0. for x in train_dataset[\"time:timestamp\"].values ]\n",
    "valid_dataset[\"time:timestamp\"] = [log(x) if x > 0 else 0. for x in valid_dataset[\"time:timestamp\"].values ]\n",
    "test_dataset[\"time:timestamp\"] = [log(x) if x > 0 else 0. for x in test_dataset[\"time:timestamp\"].values ]\n",
    "\n",
    "for k in masked_datasets:\n",
    "    masked_datasets[k][\"time:timestamp\"] = [log(x) if x is not NaN and x != 0 else 0. for x in  masked_datasets[k][\"time:timestamp\"].values]\n"
   ]
  },
  {
   "cell_type": "code",
   "execution_count": null,
   "metadata": {},
   "outputs": [],
   "source": [
    "masked_datasets[\"even\"]"
   ]
  },
  {
   "cell_type": "code",
   "execution_count": null,
   "metadata": {},
   "outputs": [],
   "source": [
    "tab_all.head()"
   ]
  },
  {
   "cell_type": "code",
   "execution_count": null,
   "metadata": {},
   "outputs": [],
   "source": [
    "train_dataset.head()"
   ]
  },
  {
   "cell_type": "code",
   "execution_count": null,
   "metadata": {},
   "outputs": [],
   "source": [
    "valid_dataset.head()"
   ]
  },
  {
   "cell_type": "code",
   "execution_count": null,
   "metadata": {},
   "outputs": [],
   "source": [
    "test_dataset.head()"
   ]
  },
  {
   "cell_type": "code",
   "execution_count": 17,
   "metadata": {},
   "outputs": [
    {
     "data": {
      "text/plain": [
       "'BPI20_RequestForPayment_CZ'"
      ]
     },
     "execution_count": 17,
     "metadata": {},
     "output_type": "execute_result"
    }
   ],
   "source": [
    "dataset = f\"{dataset}_CZ\"\n",
    "dataset"
   ]
  },
  {
   "cell_type": "code",
   "execution_count": null,
   "metadata": {},
   "outputs": [],
   "source": [
    "data_dir_processed"
   ]
  },
  {
   "cell_type": "code",
   "execution_count": 18,
   "metadata": {},
   "outputs": [],
   "source": [
    "if not os.path.isdir(f\"{data_dir_processed}/{dataset}\"):\n",
    "    os.mkdir(f\"{data_dir_processed}/{dataset}\")\n",
    "\n",
    "data_dir_processed = f\"{data_dir_processed}/{dataset}/\""
   ]
  },
  {
   "cell_type": "code",
   "execution_count": 19,
   "metadata": {},
   "outputs": [],
   "source": [
    "tab_all.to_csv(data_dir_processed + f\"{dataset}_processed_all.csv\", index=False)"
   ]
  },
  {
   "cell_type": "code",
   "execution_count": 20,
   "metadata": {},
   "outputs": [],
   "source": [
    "train_dataset.to_csv(data_dir_processed+ f\"{dataset}_processed_train.csv\", index = False)"
   ]
  },
  {
   "cell_type": "code",
   "execution_count": 21,
   "metadata": {},
   "outputs": [],
   "source": [
    "valid_dataset.to_csv(data_dir_processed+f\"{dataset}_processed_valid.csv\", index = False)"
   ]
  },
  {
   "cell_type": "code",
   "execution_count": 22,
   "metadata": {},
   "outputs": [],
   "source": [
    "test_dataset.to_csv(data_dir_processed+ f\"{dataset}_processed_test.csv\", index = False)"
   ]
  },
  {
   "cell_type": "code",
   "execution_count": 23,
   "metadata": {},
   "outputs": [],
   "source": [
    "for k in masked_datasets:\n",
    "    masked_datasets[k].to_csv(data_dir_processed + f\"{dataset}_masked_{k}_all.csv\", index=False)"
   ]
  }
 ],
 "metadata": {
  "kernelspec": {
   "display_name": "outcome_env",
   "language": "python",
   "name": "python3"
  },
  "language_info": {
   "codemirror_mode": {
    "name": "ipython",
    "version": 3
   },
   "file_extension": ".py",
   "mimetype": "text/x-python",
   "name": "python",
   "nbconvert_exporter": "python",
   "pygments_lexer": "ipython3",
   "version": "3.10.12"
  }
 },
 "nbformat": 4,
 "nbformat_minor": 2
}
