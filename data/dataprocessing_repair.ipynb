{
 "cells": [
  {
   "cell_type": "code",
   "execution_count": 16,
   "metadata": {},
   "outputs": [
    {
     "name": "stdout",
     "output_type": "stream",
     "text": [
      "/home/sebdis/ProcessMining/HGNN/HGNN_NA\n",
      "/home/sebdis/ProcessMining/HGNN/HGNN_NA/data/datasets/original/\n",
      "/home/sebdis/ProcessMining/HGNN/HGNN_NA/data/datasets/comuzzi/_processed/\n",
      "/home/sebdis/ProcessMining/HGNN/HGNN_NA/data/datasets/comuzzi/graphs_repair/\n"
     ]
    }
   ],
   "source": [
    "import pandas as pd\n",
    "import os\n",
    "import json\n",
    "import numpy as np\n",
    "from os.path import dirname\n",
    "\n",
    "root_path = dirname(os.getcwd())\n",
    "\n",
    "pd.set_option(\"display.max_columns\", None)\n",
    "data_dir = root_path + \"/data/datasets/original/\"\n",
    "data_dir_processed = root_path + \"/data/datasets/comuzzi/_processed/\"\n",
    "data_dir_graphs = root_path + \"/data/datasets/comuzzi/graphs_repair/\"\n",
    "\n",
    "print(root_path, data_dir, data_dir_processed, data_dir_graphs, sep=\"\\n\")"
   ]
  },
  {
   "cell_type": "code",
   "execution_count": null,
   "metadata": {},
   "outputs": [],
   "source": [
    "ACT_TIME_ONLY = True"
   ]
  },
  {
   "cell_type": "code",
   "execution_count": 17,
   "metadata": {},
   "outputs": [],
   "source": [
    "ACT_TIME_ONLY = False"
   ]
  },
  {
   "cell_type": "code",
   "execution_count": 18,
   "metadata": {},
   "outputs": [],
   "source": [
    "with open(\"dataset_features.json\", 'r') as file:\n",
    "    datasets_info = json.load(file)\n"
   ]
  },
  {
   "cell_type": "code",
   "execution_count": null,
   "metadata": {},
   "outputs": [],
   "source": [
    "list(datasets_info.keys())"
   ]
  },
  {
   "cell_type": "code",
   "execution_count": 19,
   "metadata": {},
   "outputs": [],
   "source": [
    "dataset = \"BPI20_RequestForPayment_CZ\""
   ]
  },
  {
   "cell_type": "code",
   "execution_count": 20,
   "metadata": {},
   "outputs": [],
   "source": [
    "nan_methods = [\"odd\", \"even\", \"random\", \"window\"]\n",
    "\n",
    "masked_datasets = {key : pd.read_csv(f\"{data_dir_processed}/{dataset}/{dataset}_masked_{key}_all.csv\") for key in nan_methods}\n"
   ]
  },
  {
   "cell_type": "code",
   "execution_count": 21,
   "metadata": {},
   "outputs": [
    {
     "data": {
      "text/html": [
       "<div>\n",
       "<style scoped>\n",
       "    .dataframe tbody tr th:only-of-type {\n",
       "        vertical-align: middle;\n",
       "    }\n",
       "\n",
       "    .dataframe tbody tr th {\n",
       "        vertical-align: top;\n",
       "    }\n",
       "\n",
       "    .dataframe thead th {\n",
       "        text-align: right;\n",
       "    }\n",
       "</style>\n",
       "<table border=\"1\" class=\"dataframe\">\n",
       "  <thead>\n",
       "    <tr style=\"text-align: right;\">\n",
       "      <th></th>\n",
       "      <th>CaseID</th>\n",
       "      <th>Activity</th>\n",
       "      <th>time:timestamp</th>\n",
       "      <th>org:resource</th>\n",
       "      <th>org:role</th>\n",
       "      <th>case:Project</th>\n",
       "      <th>case:Task</th>\n",
       "      <th>case:OrganizationalEntity</th>\n",
       "      <th>case:Cost Type</th>\n",
       "      <th>case:RequestedAmount</th>\n",
       "      <th>case:Activity</th>\n",
       "      <th>case:RfpNumber</th>\n",
       "    </tr>\n",
       "  </thead>\n",
       "  <tbody>\n",
       "    <tr>\n",
       "      <th>0</th>\n",
       "      <td>1</td>\n",
       "      <td>Request For Payment SUBMITTED by EMPLOYEE</td>\n",
       "      <td>0.000000</td>\n",
       "      <td>STAFF MEMBER</td>\n",
       "      <td>EMPLOYEE</td>\n",
       "      <td>project 148216</td>\n",
       "      <td>UNKNOWN</td>\n",
       "      <td>organizational unit 65463</td>\n",
       "      <td>0</td>\n",
       "      <td>34.336343</td>\n",
       "      <td>UNKNOWN</td>\n",
       "      <td>request for payment number 148215</td>\n",
       "    </tr>\n",
       "    <tr>\n",
       "      <th>1</th>\n",
       "      <td>1</td>\n",
       "      <td>Request For Payment FINAL_APPROVED by SUPERVISOR</td>\n",
       "      <td>3.737670</td>\n",
       "      <td>STAFF MEMBER</td>\n",
       "      <td>SUPERVISOR</td>\n",
       "      <td>project 148216</td>\n",
       "      <td>UNKNOWN</td>\n",
       "      <td>organizational unit 65463</td>\n",
       "      <td>0</td>\n",
       "      <td>34.336343</td>\n",
       "      <td>UNKNOWN</td>\n",
       "      <td>request for payment number 148215</td>\n",
       "    </tr>\n",
       "    <tr>\n",
       "      <th>2</th>\n",
       "      <td>1</td>\n",
       "      <td>Request For Payment REJECTED by MISSING</td>\n",
       "      <td>11.499982</td>\n",
       "      <td>STAFF MEMBER</td>\n",
       "      <td>MISSING</td>\n",
       "      <td>project 148216</td>\n",
       "      <td>UNKNOWN</td>\n",
       "      <td>organizational unit 65463</td>\n",
       "      <td>0</td>\n",
       "      <td>34.336343</td>\n",
       "      <td>UNKNOWN</td>\n",
       "      <td>request for payment number 148215</td>\n",
       "    </tr>\n",
       "    <tr>\n",
       "      <th>3</th>\n",
       "      <td>1</td>\n",
       "      <td>Request For Payment SUBMITTED by EMPLOYEE</td>\n",
       "      <td>15.337479</td>\n",
       "      <td>STAFF MEMBER</td>\n",
       "      <td>EMPLOYEE</td>\n",
       "      <td>project 148216</td>\n",
       "      <td>UNKNOWN</td>\n",
       "      <td>organizational unit 65463</td>\n",
       "      <td>0</td>\n",
       "      <td>34.336343</td>\n",
       "      <td>UNKNOWN</td>\n",
       "      <td>request for payment number 148215</td>\n",
       "    </tr>\n",
       "    <tr>\n",
       "      <th>4</th>\n",
       "      <td>1</td>\n",
       "      <td>Request For Payment APPROVED by PRE_APPROVER</td>\n",
       "      <td>15.337486</td>\n",
       "      <td>STAFF MEMBER</td>\n",
       "      <td>PRE_APPROVER</td>\n",
       "      <td>project 148216</td>\n",
       "      <td>UNKNOWN</td>\n",
       "      <td>organizational unit 65463</td>\n",
       "      <td>0</td>\n",
       "      <td>34.336343</td>\n",
       "      <td>UNKNOWN</td>\n",
       "      <td>request for payment number 148215</td>\n",
       "    </tr>\n",
       "  </tbody>\n",
       "</table>\n",
       "</div>"
      ],
      "text/plain": [
       "   CaseID                                          Activity  time:timestamp  \\\n",
       "0       1         Request For Payment SUBMITTED by EMPLOYEE        0.000000   \n",
       "1       1  Request For Payment FINAL_APPROVED by SUPERVISOR        3.737670   \n",
       "2       1           Request For Payment REJECTED by MISSING       11.499982   \n",
       "3       1         Request For Payment SUBMITTED by EMPLOYEE       15.337479   \n",
       "4       1      Request For Payment APPROVED by PRE_APPROVER       15.337486   \n",
       "\n",
       "   org:resource      org:role    case:Project case:Task  \\\n",
       "0  STAFF MEMBER      EMPLOYEE  project 148216   UNKNOWN   \n",
       "1  STAFF MEMBER    SUPERVISOR  project 148216   UNKNOWN   \n",
       "2  STAFF MEMBER       MISSING  project 148216   UNKNOWN   \n",
       "3  STAFF MEMBER      EMPLOYEE  project 148216   UNKNOWN   \n",
       "4  STAFF MEMBER  PRE_APPROVER  project 148216   UNKNOWN   \n",
       "\n",
       "   case:OrganizationalEntity  case:Cost Type  case:RequestedAmount  \\\n",
       "0  organizational unit 65463               0             34.336343   \n",
       "1  organizational unit 65463               0             34.336343   \n",
       "2  organizational unit 65463               0             34.336343   \n",
       "3  organizational unit 65463               0             34.336343   \n",
       "4  organizational unit 65463               0             34.336343   \n",
       "\n",
       "  case:Activity                     case:RfpNumber  \n",
       "0       UNKNOWN  request for payment number 148215  \n",
       "1       UNKNOWN  request for payment number 148215  \n",
       "2       UNKNOWN  request for payment number 148215  \n",
       "3       UNKNOWN  request for payment number 148215  \n",
       "4       UNKNOWN  request for payment number 148215  "
      ]
     },
     "execution_count": 21,
     "metadata": {},
     "output_type": "execute_result"
    }
   ],
   "source": [
    "tab_all = pd.read_csv(f\"{data_dir_processed}/{dataset}/{dataset}_processed_all.csv\") \n",
    "tab_all.head()"
   ]
  },
  {
   "cell_type": "code",
   "execution_count": 22,
   "metadata": {},
   "outputs": [],
   "source": [
    "tab_train = pd.read_csv(f\"{data_dir_processed}/{dataset}/{dataset}_processed_train.csv\")\n",
    "tab_valid = pd.read_csv(f\"{data_dir_processed}/{dataset}/{dataset}_processed_valid.csv\")\n",
    "tab_test = pd.read_csv(f\"{data_dir_processed}/{dataset}/{dataset}_processed_test.csv\")"
   ]
  },
  {
   "cell_type": "code",
   "execution_count": null,
   "metadata": {},
   "outputs": [],
   "source": [
    "if dataset == \"BPI_Challenge_2012_W_Complete\":\n",
    "    tab_all[\"org:resource\"] = tab_all[\"org:resource\"].astype(np.str_)\n",
    "    tab_train[\"org:resource\"] = tab_train[\"org:resource\"].astype(np.str_)\n",
    "    tab_valid[\"org:resource\"] = tab_valid[\"org:resource\"].astype(np.str_)\n",
    "    tab_test[\"org:resource\"] = tab_test[\"org:resource\"].astype(np.str_)"
   ]
  },
  {
   "cell_type": "code",
   "execution_count": 23,
   "metadata": {},
   "outputs": [],
   "source": [
    "with open(\"dataset_features.json\", 'r') as file:\n",
    "    dataset_info = json.load(file)[dataset]"
   ]
  },
  {
   "cell_type": "code",
   "execution_count": null,
   "metadata": {},
   "outputs": [],
   "source": [
    "dataset_info"
   ]
  },
  {
   "cell_type": "code",
   "execution_count": 24,
   "metadata": {},
   "outputs": [],
   "source": [
    "if ACT_TIME_ONLY:\n",
    "    categorical_columns = [\"Activity\"]\n",
    "    real_value_columns = [\"time:timestamp\"]\n",
    "    dataset = f\"{dataset}_AT_only\"\n",
    "else:\n",
    "    categorical_columns = dataset_info[\"categorical\"]\n",
    "    real_value_columns = dataset_info[\"numerical\"]"
   ]
  },
  {
   "cell_type": "code",
   "execution_count": 25,
   "metadata": {},
   "outputs": [],
   "source": [
    "for k in categorical_columns:\n",
    "    tab_all[k] = tab_all[k].astype(\"object\")\n",
    "    tab_train[k] = tab_train[k].astype(\"object\")\n",
    "    tab_valid[k] = tab_valid[k].astype(\"object\")\n",
    "    tab_test[k] = tab_test[k].astype(\"object\")\n",
    "    \n",
    "    for k_m in masked_datasets:\n",
    "        masked_datasets[k_m][k] = masked_datasets[k_m][k].astype(\"object\")"
   ]
  },
  {
   "cell_type": "code",
   "execution_count": null,
   "metadata": {},
   "outputs": [],
   "source": [
    "from numpy import NaN\n",
    "if dataset == \"sp2020_CZ\":\n",
    "    tab_all[\"REPAIR_IN_TIME_5D\"] = [float(x) if x is not NaN else x for x in tab_all[\"REPAIR_IN_TIME_5D\"].values]\n",
    "    tab_train[\"REPAIR_IN_TIME_5D\"] = [float(x) if x is not NaN else x for x in tab_train[\"REPAIR_IN_TIME_5D\"].values]\n",
    "    tab_valid[\"REPAIR_IN_TIME_5D\"] = [float(x) if x is not NaN else x for x in tab_valid[\"REPAIR_IN_TIME_5D\"].values]\n",
    "    tab_test[\"REPAIR_IN_TIME_5D\"] = [float(x) if x is not NaN else x for x in tab_test[\"REPAIR_IN_TIME_5D\"].values]\n",
    "    for k_m in masked_datasets:\n",
    "        masked_datasets[k_m][\"REPAIR_IN_TIME_5D\"] = [float(x) if x is not NaN else x for x in masked_datasets[k_m][\"REPAIR_IN_TIME_5D\"].values]"
   ]
  },
  {
   "cell_type": "code",
   "execution_count": null,
   "metadata": {},
   "outputs": [],
   "source": [
    "for k in categorical_columns:\n",
    "    print(f\"{k} {tab_test[k].values.dtype}\")"
   ]
  },
  {
   "cell_type": "code",
   "execution_count": null,
   "metadata": {},
   "outputs": [],
   "source": [
    "dataset"
   ]
  },
  {
   "cell_type": "code",
   "execution_count": 37,
   "metadata": {},
   "outputs": [],
   "source": [
    "from numpy import NaN\n",
    "from math import log\n",
    "if dataset == \"BPI20_RequestForPayment_CZ\":\n",
    "    tab_all[\"case:RequestedAmount\"] = [log(x) if x > 0 else 0. for x in tab_all[\"case:RequestedAmount\"].values]\n",
    "    tab_train[\"case:RequestedAmount\"] = [log(x) if x > 0 else 0. for x in tab_train[\"case:RequestedAmount\"].values]\n",
    "    tab_valid[\"case:RequestedAmount\"] = [log(x) if x > 0 else 0. for x in tab_valid[\"case:RequestedAmount\"].values]\n",
    "    tab_test[\"case:RequestedAmount\"] = [log(x) if x > 0 else 0. for x in tab_test[\"case:RequestedAmount\"].values]\n",
    "    for k_m in masked_datasets:\n",
    "        masked_datasets[k_m][\"case:RequestedAmount\"] = [log(x) if x > 0 else 0. if x == 0 else x for x in masked_datasets[k_m][\"case:RequestedAmount\"].values]"
   ]
  },
  {
   "cell_type": "code",
   "execution_count": 38,
   "metadata": {},
   "outputs": [
    {
     "data": {
      "text/plain": [
       "0        3.536204\n",
       "1             NaN\n",
       "2             NaN\n",
       "3        3.536204\n",
       "4             NaN\n",
       "           ...   \n",
       "36791    2.734995\n",
       "36792    2.734995\n",
       "36793    2.734995\n",
       "36794    2.734995\n",
       "36795    2.734995\n",
       "Name: case:RequestedAmount, Length: 36796, dtype: float64"
      ]
     },
     "execution_count": 38,
     "metadata": {},
     "output_type": "execute_result"
    }
   ],
   "source": [
    "\n",
    "\n",
    "\n",
    "masked_datasets[k_m][\"case:RequestedAmount\"]\n"
   ]
  },
  {
   "cell_type": "code",
   "execution_count": null,
   "metadata": {},
   "outputs": [],
   "source": [
    "tab_all"
   ]
  },
  {
   "cell_type": "markdown",
   "metadata": {},
   "source": [
    "### Prepare the graphs"
   ]
  },
  {
   "cell_type": "code",
   "execution_count": 39,
   "metadata": {},
   "outputs": [],
   "source": [
    "from utils import get_case_ids, get_one_hot_encodings\n",
    "\n",
    "from torch import tensor,int64, float32\n",
    "from torch_geometric.data import HeteroData\n"
   ]
  },
  {
   "cell_type": "code",
   "execution_count": 40,
   "metadata": {},
   "outputs": [],
   "source": [
    "MISSING_VALUE = \"MISSING_VALUE\""
   ]
  },
  {
   "cell_type": "code",
   "execution_count": 41,
   "metadata": {},
   "outputs": [],
   "source": [
    "import sklearn.preprocessing\n",
    "\n",
    "def get_one_hot_encoder(dataset: pd.DataFrame, key: str):\n",
    "    datas = np.append(dataset[key].unique(), MISSING_VALUE)\n",
    "    datas = datas.astype(np.str_)\n",
    "    datas = datas.reshape([len(datas), 1])\n",
    "    onehot = sklearn.preprocessing.OneHotEncoder()\n",
    "    onehot.fit(datas)\n",
    "    return onehot"
   ]
  },
  {
   "cell_type": "code",
   "execution_count": 42,
   "metadata": {},
   "outputs": [],
   "source": [
    "def get_node_features(dataset: pd.DataFrame, trace: pd.DataFrame, cat_features, real_features) -> dict:\n",
    "    #columns_static = [c for c in trace if is_static(trace[c])]\n",
    "\n",
    "    res = {}\n",
    "\n",
    "    for key in trace:\n",
    "        values = trace[key].values\n",
    "        if key in cat_features:\n",
    "            onehot_encoder = get_one_hot_encoder(dataset, key)\n",
    "            values = values.astype(np.str_)\n",
    "            #if key not in columns_static:\n",
    "            try:\n",
    "                res[key] = tensor(\n",
    "                    get_one_hot_encodings(onehot_encoder, values),\n",
    "                    dtype=float32,\n",
    "                    requires_grad=True\n",
    "                )\n",
    "            except ValueError:\n",
    "                print(key)\n",
    "                print(values)\n",
    "            #else:\n",
    "            #    res[key] = tensor(\n",
    "            #        get_one_hot_encodings(onehot_encoder, np.array([values[0]])),\n",
    "            #        dtype=float32,\n",
    "            #        requires_grad=True\n",
    "            #    )\n",
    "        if key in real_features:\n",
    "            #if key not in columns_static:\n",
    "           \n",
    "            res[key] = tensor(values,  dtype=float32,requires_grad=True)\n",
    "            #else:\n",
    "                #res[key] = tensor([values[0]], dtype=float32,requires_grad=True)\n",
    "            res[key] = res[key].reshape(res[key].shape[0], 1)\n",
    "        \n",
    "    \n",
    "\n",
    "    return res\n"
   ]
  },
  {
   "cell_type": "code",
   "execution_count": 43,
   "metadata": {},
   "outputs": [],
   "source": [
    "def compute_edges_indexs(node_features: dict, prefix_len):\n",
    "    res = {}\n",
    "    keys = node_features.keys()\n",
    "    # indexes = [[i, j] for i in range(prefix_len) for j in range(i + 1, prefix_len)]\n",
    "    indexes = [[i, i + 1] for i in range(prefix_len-1)]\n",
    "    # activities indexes\n",
    "    for k in keys:\n",
    "        if len(node_features[k]) != 1:\n",
    "            if k == \"Activity\":\n",
    "                res[(k, \"followed_by\", k)] = indexes\n",
    "                for k2 in keys:\n",
    "                    if k2 != k:\n",
    "                        if len(node_features[k2]) == 1:\n",
    "                            res[(k, \"related_to\", k2)] = [\n",
    "                                [i, 0] for i in range(prefix_len)\n",
    "                            ]\n",
    "                        else:\n",
    "                            res[(k, \"related_to\", k2)] = [\n",
    "                                [i, i] for i in range(prefix_len)\n",
    "                            ]\n",
    "            else:\n",
    "                res[(k, \"related_to\", k)] = indexes\n",
    "\n",
    "    return res"
   ]
  },
  {
   "cell_type": "code",
   "execution_count": null,
   "metadata": {},
   "outputs": [],
   "source": [
    "dataset"
   ]
  },
  {
   "cell_type": "code",
   "execution_count": 44,
   "metadata": {},
   "outputs": [],
   "source": [
    "def get_masked_trace(dataset_traces, cat_features, real_features, caseid):\n",
    "    trace = (\n",
    "        dataset_traces.query(f\"CaseID == '{caseid}'\")\n",
    "        .reset_index()\n",
    "        .drop(columns=\"index\")\n",
    "        .drop(columns=\"CaseID\")\n",
    "    )\n",
    "    \n",
    "    if dataset != \"bpi_2012_CZ\" and dataset != 'bpi_2012_CZ_AT_only':\n",
    "        mask = trace[trace.columns].isnull().apply(lambda x: all(x), axis=1)\n",
    "    else:\n",
    "        mask = trace[trace.columns].isnull().any(axis=1).values\n",
    "        \n",
    "    mask_index = [i for i in range(len(mask)) if mask[i]]\n",
    "    \n",
    "    for k in cat_features:\n",
    "        for i in mask_index:\n",
    "            trace.loc[i, k] = MISSING_VALUE\n",
    "    \n",
    "    for k in real_features:\n",
    "        for i in mask_index:\n",
    "            trace.loc[i, k] = -1\n",
    "    \n",
    "    return trace, mask\n",
    "    \n",
    "    "
   ]
  },
  {
   "cell_type": "code",
   "execution_count": null,
   "metadata": {},
   "outputs": [],
   "source": [
    "nan_methods[0]"
   ]
  },
  {
   "cell_type": "code",
   "execution_count": null,
   "metadata": {},
   "outputs": [],
   "source": [
    "masked_datasets[nan_methods[0]]"
   ]
  },
  {
   "cell_type": "code",
   "execution_count": null,
   "metadata": {},
   "outputs": [],
   "source": []
  },
  {
   "cell_type": "code",
   "execution_count": 45,
   "metadata": {},
   "outputs": [],
   "source": [
    "\n",
    "from copy import copy\n",
    "import torch\n",
    "\n",
    "def build_prefixes_graph_from_trace(dataset, trace, cat_features, real_features, caseid=None, mask_method=None):\n",
    "    X = []  # graphs\n",
    "   \n",
    "    \n",
    "    \n",
    "    node_features = get_node_features(dataset, trace, cat_features, real_features)\n",
    "    \n",
    "    \n",
    "    #masks = [f(trace) for f in mask_methods]\n",
    "    \n",
    "    if mask_method is not None:\n",
    "        masked_methods = [mask_method]\n",
    "    else:\n",
    "        masked_methods = copy(nan_methods)\n",
    "    \n",
    "    \n",
    "    for j in range(len(masked_methods)):\n",
    "        \n",
    "        G = HeteroData()\n",
    "        \n",
    "        #masked_trace, mask = modify_trace(trace, cat_features, real_features, masks[j])\n",
    "        \n",
    "        masked_trace, mask = get_masked_trace(masked_datasets[masked_methods[j]], cat_features, real_features, caseid)\n",
    "        \n",
    "        G.mask = torch.tensor(mask,dtype=torch.bool)\n",
    "        \n",
    "        \n",
    "        node_features_masked_trace = get_node_features(dataset, masked_trace, cat_features, real_features)\n",
    "        \n",
    "        for k in node_features_masked_trace:\n",
    "            G[k].x = node_features_masked_trace[k]\n",
    "\n",
    "\n",
    "        edges_indexes = compute_edges_indexs(node_features_masked_trace, len(trace))\n",
    "\n",
    "    \n",
    "\n",
    "\n",
    "        for k in edges_indexes:\n",
    "            ce = [[], []]\n",
    "            for i in range(len(edges_indexes[k])):\n",
    "                ce[0].append(edges_indexes[k][i][0])\n",
    "                ce[1].append(edges_indexes[k][i][1])\n",
    "            edges_indexes[k] = ce\n",
    "\n",
    "        for k in edges_indexes:\n",
    "            G[k].edge_index = tensor(edges_indexes[k], dtype=int64)\n",
    "\n",
    "        G.y = {}\n",
    "        for k in node_features:\n",
    "            if k in cat_features:\n",
    "                G.y[k] = torch.max(node_features[k], 1)[1]\n",
    "            else:\n",
    "                G.y[k] = node_features[k].reshape(1,-1)[0].detach().clone()\n",
    "        \n",
    "        \n",
    "        \n",
    "        X.append(G)\n",
    "    \n",
    "    \n",
    "\n",
    "        \n",
    "    return X"
   ]
  },
  {
   "cell_type": "markdown",
   "metadata": {},
   "source": [
    "## Create the datasets"
   ]
  },
  {
   "cell_type": "code",
   "execution_count": 46,
   "metadata": {},
   "outputs": [],
   "source": [
    "case_train_ids = get_case_ids(tab_train)\n",
    "case_valid_ids = get_case_ids(tab_valid)\n",
    "case_test_ids = get_case_ids(tab_test)"
   ]
  },
  {
   "cell_type": "code",
   "execution_count": 47,
   "metadata": {},
   "outputs": [
    {
     "name": "stdout",
     "output_type": "stream",
     "text": [
      "4131\n",
      "1377\n",
      "1378\n"
     ]
    }
   ],
   "source": [
    "print(len(case_train_ids))\n",
    "print(len(case_valid_ids))\n",
    "print(len(case_test_ids))"
   ]
  },
  {
   "cell_type": "code",
   "execution_count": null,
   "metadata": {},
   "outputs": [],
   "source": [
    "trace2 = (\n",
    "        masked_datasets[\"odd\"].query(f\"CaseID == '{case_train_ids[0]}'\")\n",
    "        .reset_index()\n",
    "        .drop(columns=\"index\")\n",
    "        .drop(columns=\"CaseID\")\n",
    "    )\n",
    "trace2"
   ]
  },
  {
   "cell_type": "code",
   "execution_count": 48,
   "metadata": {},
   "outputs": [],
   "source": [
    "tab_train[\"CaseID\"] = tab_train[\"CaseID\"].astype(np.str_)\n",
    "tab_valid[\"CaseID\"] = tab_valid[\"CaseID\"].astype(np.str_)\n",
    "tab_test[\"CaseID\"] = tab_test[\"CaseID\"].astype(np.str_)"
   ]
  },
  {
   "cell_type": "code",
   "execution_count": 49,
   "metadata": {},
   "outputs": [],
   "source": [
    "for k in masked_datasets:\n",
    "    masked_datasets[k][\"CaseID\"] = masked_datasets[k][\"CaseID\"].astype(np.str_)"
   ]
  },
  {
   "cell_type": "code",
   "execution_count": null,
   "metadata": {},
   "outputs": [],
   "source": [
    "tab_all[\"REPAIR_IN_TIME_5D\"]"
   ]
  },
  {
   "cell_type": "code",
   "execution_count": null,
   "metadata": {},
   "outputs": [],
   "source": [
    "masked_datasets[\"even\"][\"REPAIR_IN_TIME_5D\"]"
   ]
  },
  {
   "cell_type": "code",
   "execution_count": 50,
   "metadata": {},
   "outputs": [
    {
     "data": {
      "text/html": [
       "<div>\n",
       "<style scoped>\n",
       "    .dataframe tbody tr th:only-of-type {\n",
       "        vertical-align: middle;\n",
       "    }\n",
       "\n",
       "    .dataframe tbody tr th {\n",
       "        vertical-align: top;\n",
       "    }\n",
       "\n",
       "    .dataframe thead th {\n",
       "        text-align: right;\n",
       "    }\n",
       "</style>\n",
       "<table border=\"1\" class=\"dataframe\">\n",
       "  <thead>\n",
       "    <tr style=\"text-align: right;\">\n",
       "      <th></th>\n",
       "      <th>Activity</th>\n",
       "      <th>time:timestamp</th>\n",
       "      <th>org:resource</th>\n",
       "      <th>org:role</th>\n",
       "      <th>case:Project</th>\n",
       "      <th>case:Task</th>\n",
       "      <th>case:OrganizationalEntity</th>\n",
       "      <th>case:Cost Type</th>\n",
       "      <th>case:RequestedAmount</th>\n",
       "      <th>case:Activity</th>\n",
       "      <th>case:RfpNumber</th>\n",
       "    </tr>\n",
       "  </thead>\n",
       "  <tbody>\n",
       "    <tr>\n",
       "      <th>0</th>\n",
       "      <td>Request For Payment SUBMITTED by EMPLOYEE</td>\n",
       "      <td>0.000000</td>\n",
       "      <td>STAFF MEMBER</td>\n",
       "      <td>EMPLOYEE</td>\n",
       "      <td>project 148216</td>\n",
       "      <td>UNKNOWN</td>\n",
       "      <td>organizational unit 65463</td>\n",
       "      <td>0</td>\n",
       "      <td>3.536204</td>\n",
       "      <td>UNKNOWN</td>\n",
       "      <td>request for payment number 148215</td>\n",
       "    </tr>\n",
       "    <tr>\n",
       "      <th>1</th>\n",
       "      <td>Request For Payment FINAL_APPROVED by SUPERVISOR</td>\n",
       "      <td>3.737670</td>\n",
       "      <td>STAFF MEMBER</td>\n",
       "      <td>SUPERVISOR</td>\n",
       "      <td>project 148216</td>\n",
       "      <td>UNKNOWN</td>\n",
       "      <td>organizational unit 65463</td>\n",
       "      <td>0</td>\n",
       "      <td>3.536204</td>\n",
       "      <td>UNKNOWN</td>\n",
       "      <td>request for payment number 148215</td>\n",
       "    </tr>\n",
       "    <tr>\n",
       "      <th>2</th>\n",
       "      <td>Request For Payment REJECTED by MISSING</td>\n",
       "      <td>11.499982</td>\n",
       "      <td>STAFF MEMBER</td>\n",
       "      <td>MISSING</td>\n",
       "      <td>project 148216</td>\n",
       "      <td>UNKNOWN</td>\n",
       "      <td>organizational unit 65463</td>\n",
       "      <td>0</td>\n",
       "      <td>3.536204</td>\n",
       "      <td>UNKNOWN</td>\n",
       "      <td>request for payment number 148215</td>\n",
       "    </tr>\n",
       "    <tr>\n",
       "      <th>3</th>\n",
       "      <td>Request For Payment SUBMITTED by EMPLOYEE</td>\n",
       "      <td>15.337479</td>\n",
       "      <td>STAFF MEMBER</td>\n",
       "      <td>EMPLOYEE</td>\n",
       "      <td>project 148216</td>\n",
       "      <td>UNKNOWN</td>\n",
       "      <td>organizational unit 65463</td>\n",
       "      <td>0</td>\n",
       "      <td>3.536204</td>\n",
       "      <td>UNKNOWN</td>\n",
       "      <td>request for payment number 148215</td>\n",
       "    </tr>\n",
       "    <tr>\n",
       "      <th>4</th>\n",
       "      <td>Request For Payment APPROVED by PRE_APPROVER</td>\n",
       "      <td>15.337486</td>\n",
       "      <td>STAFF MEMBER</td>\n",
       "      <td>PRE_APPROVER</td>\n",
       "      <td>project 148216</td>\n",
       "      <td>UNKNOWN</td>\n",
       "      <td>organizational unit 65463</td>\n",
       "      <td>0</td>\n",
       "      <td>3.536204</td>\n",
       "      <td>UNKNOWN</td>\n",
       "      <td>request for payment number 148215</td>\n",
       "    </tr>\n",
       "    <tr>\n",
       "      <th>5</th>\n",
       "      <td>Request For Payment FINAL_APPROVED by SUPERVISOR</td>\n",
       "      <td>15.391828</td>\n",
       "      <td>STAFF MEMBER</td>\n",
       "      <td>SUPERVISOR</td>\n",
       "      <td>project 148216</td>\n",
       "      <td>UNKNOWN</td>\n",
       "      <td>organizational unit 65463</td>\n",
       "      <td>0</td>\n",
       "      <td>3.536204</td>\n",
       "      <td>UNKNOWN</td>\n",
       "      <td>request for payment number 148215</td>\n",
       "    </tr>\n",
       "    <tr>\n",
       "      <th>6</th>\n",
       "      <td>Request Payment</td>\n",
       "      <td>15.428686</td>\n",
       "      <td>SYSTEM</td>\n",
       "      <td>UNDEFINED</td>\n",
       "      <td>project 148216</td>\n",
       "      <td>UNKNOWN</td>\n",
       "      <td>organizational unit 65463</td>\n",
       "      <td>0</td>\n",
       "      <td>3.536204</td>\n",
       "      <td>UNKNOWN</td>\n",
       "      <td>request for payment number 148215</td>\n",
       "    </tr>\n",
       "    <tr>\n",
       "      <th>7</th>\n",
       "      <td>Payment Handled</td>\n",
       "      <td>15.561581</td>\n",
       "      <td>SYSTEM</td>\n",
       "      <td>UNDEFINED</td>\n",
       "      <td>project 148216</td>\n",
       "      <td>UNKNOWN</td>\n",
       "      <td>organizational unit 65463</td>\n",
       "      <td>0</td>\n",
       "      <td>3.536204</td>\n",
       "      <td>UNKNOWN</td>\n",
       "      <td>request for payment number 148215</td>\n",
       "    </tr>\n",
       "  </tbody>\n",
       "</table>\n",
       "</div>"
      ],
      "text/plain": [
       "                                           Activity  time:timestamp  \\\n",
       "0         Request For Payment SUBMITTED by EMPLOYEE        0.000000   \n",
       "1  Request For Payment FINAL_APPROVED by SUPERVISOR        3.737670   \n",
       "2           Request For Payment REJECTED by MISSING       11.499982   \n",
       "3         Request For Payment SUBMITTED by EMPLOYEE       15.337479   \n",
       "4      Request For Payment APPROVED by PRE_APPROVER       15.337486   \n",
       "5  Request For Payment FINAL_APPROVED by SUPERVISOR       15.391828   \n",
       "6                                   Request Payment       15.428686   \n",
       "7                                   Payment Handled       15.561581   \n",
       "\n",
       "   org:resource      org:role    case:Project case:Task  \\\n",
       "0  STAFF MEMBER      EMPLOYEE  project 148216   UNKNOWN   \n",
       "1  STAFF MEMBER    SUPERVISOR  project 148216   UNKNOWN   \n",
       "2  STAFF MEMBER       MISSING  project 148216   UNKNOWN   \n",
       "3  STAFF MEMBER      EMPLOYEE  project 148216   UNKNOWN   \n",
       "4  STAFF MEMBER  PRE_APPROVER  project 148216   UNKNOWN   \n",
       "5  STAFF MEMBER    SUPERVISOR  project 148216   UNKNOWN   \n",
       "6        SYSTEM     UNDEFINED  project 148216   UNKNOWN   \n",
       "7        SYSTEM     UNDEFINED  project 148216   UNKNOWN   \n",
       "\n",
       "   case:OrganizationalEntity  case:Cost Type  case:RequestedAmount  \\\n",
       "0  organizational unit 65463               0              3.536204   \n",
       "1  organizational unit 65463               0              3.536204   \n",
       "2  organizational unit 65463               0              3.536204   \n",
       "3  organizational unit 65463               0              3.536204   \n",
       "4  organizational unit 65463               0              3.536204   \n",
       "5  organizational unit 65463               0              3.536204   \n",
       "6  organizational unit 65463               0              3.536204   \n",
       "7  organizational unit 65463               0              3.536204   \n",
       "\n",
       "  case:Activity                     case:RfpNumber  \n",
       "0       UNKNOWN  request for payment number 148215  \n",
       "1       UNKNOWN  request for payment number 148215  \n",
       "2       UNKNOWN  request for payment number 148215  \n",
       "3       UNKNOWN  request for payment number 148215  \n",
       "4       UNKNOWN  request for payment number 148215  \n",
       "5       UNKNOWN  request for payment number 148215  \n",
       "6       UNKNOWN  request for payment number 148215  \n",
       "7       UNKNOWN  request for payment number 148215  "
      ]
     },
     "execution_count": 50,
     "metadata": {},
     "output_type": "execute_result"
    }
   ],
   "source": [
    "trace = (\n",
    "        tab_train.query(f\"CaseID == '{case_train_ids[0]}'\")\n",
    "        .reset_index()\n",
    "        .drop(columns=\"index\")\n",
    "        .drop(columns=\"CaseID\")\n",
    "    )\n",
    "trace "
   ]
  },
  {
   "cell_type": "code",
   "execution_count": 51,
   "metadata": {},
   "outputs": [],
   "source": [
    "m_trace, mask = get_masked_trace(masked_datasets[\"random\"], categorical_columns, real_value_columns, case_train_ids[0])"
   ]
  },
  {
   "cell_type": "code",
   "execution_count": 52,
   "metadata": {},
   "outputs": [
    {
     "data": {
      "text/html": [
       "<div>\n",
       "<style scoped>\n",
       "    .dataframe tbody tr th:only-of-type {\n",
       "        vertical-align: middle;\n",
       "    }\n",
       "\n",
       "    .dataframe tbody tr th {\n",
       "        vertical-align: top;\n",
       "    }\n",
       "\n",
       "    .dataframe thead th {\n",
       "        text-align: right;\n",
       "    }\n",
       "</style>\n",
       "<table border=\"1\" class=\"dataframe\">\n",
       "  <thead>\n",
       "    <tr style=\"text-align: right;\">\n",
       "      <th></th>\n",
       "      <th>Activity</th>\n",
       "      <th>time:timestamp</th>\n",
       "      <th>org:resource</th>\n",
       "      <th>org:role</th>\n",
       "      <th>case:Project</th>\n",
       "      <th>case:Task</th>\n",
       "      <th>case:OrganizationalEntity</th>\n",
       "      <th>case:Cost Type</th>\n",
       "      <th>case:RequestedAmount</th>\n",
       "      <th>case:Activity</th>\n",
       "      <th>case:RfpNumber</th>\n",
       "    </tr>\n",
       "  </thead>\n",
       "  <tbody>\n",
       "    <tr>\n",
       "      <th>0</th>\n",
       "      <td>Request For Payment SUBMITTED by EMPLOYEE</td>\n",
       "      <td>0.000000</td>\n",
       "      <td>STAFF MEMBER</td>\n",
       "      <td>EMPLOYEE</td>\n",
       "      <td>project 148216</td>\n",
       "      <td>UNKNOWN</td>\n",
       "      <td>organizational unit 65463</td>\n",
       "      <td>0.0</td>\n",
       "      <td>3.536204</td>\n",
       "      <td>UNKNOWN</td>\n",
       "      <td>request for payment number 148215</td>\n",
       "    </tr>\n",
       "    <tr>\n",
       "      <th>1</th>\n",
       "      <td>Request For Payment FINAL_APPROVED by SUPERVISOR</td>\n",
       "      <td>3.737670</td>\n",
       "      <td>STAFF MEMBER</td>\n",
       "      <td>SUPERVISOR</td>\n",
       "      <td>project 148216</td>\n",
       "      <td>UNKNOWN</td>\n",
       "      <td>organizational unit 65463</td>\n",
       "      <td>0.0</td>\n",
       "      <td>3.536204</td>\n",
       "      <td>UNKNOWN</td>\n",
       "      <td>request for payment number 148215</td>\n",
       "    </tr>\n",
       "    <tr>\n",
       "      <th>2</th>\n",
       "      <td>Request For Payment REJECTED by MISSING</td>\n",
       "      <td>11.499982</td>\n",
       "      <td>STAFF MEMBER</td>\n",
       "      <td>MISSING</td>\n",
       "      <td>project 148216</td>\n",
       "      <td>UNKNOWN</td>\n",
       "      <td>organizational unit 65463</td>\n",
       "      <td>0.0</td>\n",
       "      <td>3.536204</td>\n",
       "      <td>UNKNOWN</td>\n",
       "      <td>request for payment number 148215</td>\n",
       "    </tr>\n",
       "    <tr>\n",
       "      <th>3</th>\n",
       "      <td>MISSING_VALUE</td>\n",
       "      <td>-1.000000</td>\n",
       "      <td>MISSING_VALUE</td>\n",
       "      <td>MISSING_VALUE</td>\n",
       "      <td>MISSING_VALUE</td>\n",
       "      <td>MISSING_VALUE</td>\n",
       "      <td>MISSING_VALUE</td>\n",
       "      <td>NaN</td>\n",
       "      <td>-1.000000</td>\n",
       "      <td>MISSING_VALUE</td>\n",
       "      <td>MISSING_VALUE</td>\n",
       "    </tr>\n",
       "    <tr>\n",
       "      <th>4</th>\n",
       "      <td>MISSING_VALUE</td>\n",
       "      <td>-1.000000</td>\n",
       "      <td>MISSING_VALUE</td>\n",
       "      <td>MISSING_VALUE</td>\n",
       "      <td>MISSING_VALUE</td>\n",
       "      <td>MISSING_VALUE</td>\n",
       "      <td>MISSING_VALUE</td>\n",
       "      <td>NaN</td>\n",
       "      <td>-1.000000</td>\n",
       "      <td>MISSING_VALUE</td>\n",
       "      <td>MISSING_VALUE</td>\n",
       "    </tr>\n",
       "    <tr>\n",
       "      <th>5</th>\n",
       "      <td>Request For Payment FINAL_APPROVED by SUPERVISOR</td>\n",
       "      <td>15.391828</td>\n",
       "      <td>STAFF MEMBER</td>\n",
       "      <td>SUPERVISOR</td>\n",
       "      <td>project 148216</td>\n",
       "      <td>UNKNOWN</td>\n",
       "      <td>organizational unit 65463</td>\n",
       "      <td>0.0</td>\n",
       "      <td>3.536204</td>\n",
       "      <td>UNKNOWN</td>\n",
       "      <td>request for payment number 148215</td>\n",
       "    </tr>\n",
       "    <tr>\n",
       "      <th>6</th>\n",
       "      <td>MISSING_VALUE</td>\n",
       "      <td>-1.000000</td>\n",
       "      <td>MISSING_VALUE</td>\n",
       "      <td>MISSING_VALUE</td>\n",
       "      <td>MISSING_VALUE</td>\n",
       "      <td>MISSING_VALUE</td>\n",
       "      <td>MISSING_VALUE</td>\n",
       "      <td>NaN</td>\n",
       "      <td>-1.000000</td>\n",
       "      <td>MISSING_VALUE</td>\n",
       "      <td>MISSING_VALUE</td>\n",
       "    </tr>\n",
       "    <tr>\n",
       "      <th>7</th>\n",
       "      <td>MISSING_VALUE</td>\n",
       "      <td>-1.000000</td>\n",
       "      <td>MISSING_VALUE</td>\n",
       "      <td>MISSING_VALUE</td>\n",
       "      <td>MISSING_VALUE</td>\n",
       "      <td>MISSING_VALUE</td>\n",
       "      <td>MISSING_VALUE</td>\n",
       "      <td>NaN</td>\n",
       "      <td>-1.000000</td>\n",
       "      <td>MISSING_VALUE</td>\n",
       "      <td>MISSING_VALUE</td>\n",
       "    </tr>\n",
       "  </tbody>\n",
       "</table>\n",
       "</div>"
      ],
      "text/plain": [
       "                                           Activity  time:timestamp  \\\n",
       "0         Request For Payment SUBMITTED by EMPLOYEE        0.000000   \n",
       "1  Request For Payment FINAL_APPROVED by SUPERVISOR        3.737670   \n",
       "2           Request For Payment REJECTED by MISSING       11.499982   \n",
       "3                                     MISSING_VALUE       -1.000000   \n",
       "4                                     MISSING_VALUE       -1.000000   \n",
       "5  Request For Payment FINAL_APPROVED by SUPERVISOR       15.391828   \n",
       "6                                     MISSING_VALUE       -1.000000   \n",
       "7                                     MISSING_VALUE       -1.000000   \n",
       "\n",
       "    org:resource       org:role    case:Project      case:Task  \\\n",
       "0   STAFF MEMBER       EMPLOYEE  project 148216        UNKNOWN   \n",
       "1   STAFF MEMBER     SUPERVISOR  project 148216        UNKNOWN   \n",
       "2   STAFF MEMBER        MISSING  project 148216        UNKNOWN   \n",
       "3  MISSING_VALUE  MISSING_VALUE   MISSING_VALUE  MISSING_VALUE   \n",
       "4  MISSING_VALUE  MISSING_VALUE   MISSING_VALUE  MISSING_VALUE   \n",
       "5   STAFF MEMBER     SUPERVISOR  project 148216        UNKNOWN   \n",
       "6  MISSING_VALUE  MISSING_VALUE   MISSING_VALUE  MISSING_VALUE   \n",
       "7  MISSING_VALUE  MISSING_VALUE   MISSING_VALUE  MISSING_VALUE   \n",
       "\n",
       "   case:OrganizationalEntity  case:Cost Type  case:RequestedAmount  \\\n",
       "0  organizational unit 65463             0.0              3.536204   \n",
       "1  organizational unit 65463             0.0              3.536204   \n",
       "2  organizational unit 65463             0.0              3.536204   \n",
       "3              MISSING_VALUE             NaN             -1.000000   \n",
       "4              MISSING_VALUE             NaN             -1.000000   \n",
       "5  organizational unit 65463             0.0              3.536204   \n",
       "6              MISSING_VALUE             NaN             -1.000000   \n",
       "7              MISSING_VALUE             NaN             -1.000000   \n",
       "\n",
       "   case:Activity                     case:RfpNumber  \n",
       "0        UNKNOWN  request for payment number 148215  \n",
       "1        UNKNOWN  request for payment number 148215  \n",
       "2        UNKNOWN  request for payment number 148215  \n",
       "3  MISSING_VALUE                      MISSING_VALUE  \n",
       "4  MISSING_VALUE                      MISSING_VALUE  \n",
       "5        UNKNOWN  request for payment number 148215  \n",
       "6  MISSING_VALUE                      MISSING_VALUE  \n",
       "7  MISSING_VALUE                      MISSING_VALUE  "
      ]
     },
     "execution_count": 52,
     "metadata": {},
     "output_type": "execute_result"
    }
   ],
   "source": [
    "m_trace"
   ]
  },
  {
   "cell_type": "code",
   "execution_count": null,
   "metadata": {},
   "outputs": [],
   "source": [
    "mask"
   ]
  },
  {
   "cell_type": "code",
   "execution_count": 53,
   "metadata": {},
   "outputs": [],
   "source": [
    "graphs = build_prefixes_graph_from_trace(tab_all, trace, categorical_columns, real_value_columns, case_train_ids[0])"
   ]
  },
  {
   "cell_type": "code",
   "execution_count": null,
   "metadata": {},
   "outputs": [],
   "source": [
    "graphs[0].x_dict[\"time:timestamp\"]"
   ]
  },
  {
   "cell_type": "code",
   "execution_count": null,
   "metadata": {},
   "outputs": [],
   "source": [
    "graphs[0].y"
   ]
  },
  {
   "cell_type": "code",
   "execution_count": null,
   "metadata": {},
   "outputs": [],
   "source": [
    "graphs[0].mask"
   ]
  },
  {
   "cell_type": "code",
   "execution_count": 54,
   "metadata": {},
   "outputs": [],
   "source": [
    "from tqdm.notebook import tqdm"
   ]
  },
  {
   "cell_type": "code",
   "execution_count": 55,
   "metadata": {},
   "outputs": [
    {
     "name": "stdout",
     "output_type": "stream",
     "text": [
      "Preparing training dataset...\n"
     ]
    },
    {
     "data": {
      "application/vnd.jupyter.widget-view+json": {
       "model_id": "5edcdb05b0ac4ecf996b23c6c9c562a9",
       "version_major": 2,
       "version_minor": 0
      },
      "text/plain": [
       "  0%|          | 0/4131 [00:00<?, ?it/s]"
      ]
     },
     "metadata": {},
     "output_type": "display_data"
    },
    {
     "name": "stdout",
     "output_type": "stream",
     "text": [
      "Done!\n",
      "\n",
      "\n"
     ]
    }
   ],
   "source": [
    "print(\"Preparing training dataset...\")\n",
    "\n",
    "X_train = []\n",
    "\n",
    "\n",
    "for i in tqdm(range(len(case_train_ids))):\n",
    "    trace = (\n",
    "        tab_train.query(f\"CaseID == '{case_train_ids[i]}'\")\n",
    "        .reset_index()\n",
    "        .drop(columns=\"index\")\n",
    "        .drop(columns=\"CaseID\")\n",
    "    )\n",
    "\n",
    "    if len(trace) > 2:\n",
    "        graphs = build_prefixes_graph_from_trace(\n",
    "            dataset=tab_all,\n",
    "            trace=trace,\n",
    "            cat_features=categorical_columns,\n",
    "            real_features=real_value_columns,\n",
    "            caseid=case_train_ids[i]\n",
    "        )\n",
    "        for i in range(len(graphs)):\n",
    "            X_train.append(graphs[i])\n",
    "\n",
    "\n",
    "# Y_train = tensor(Y_train, dtype=float32)\n",
    "\n",
    "print(\"Done!\\n\\n\")"
   ]
  },
  {
   "cell_type": "code",
   "execution_count": 56,
   "metadata": {},
   "outputs": [],
   "source": [
    "import pickle"
   ]
  },
  {
   "cell_type": "code",
   "execution_count": 57,
   "metadata": {},
   "outputs": [],
   "source": [
    "\n",
    "\n",
    "with open(data_dir_graphs + dataset + \"_TRAIN_repair.pkl\", \"wb\") as f:\n",
    "    pickle.dump(X_train, f)"
   ]
  },
  {
   "cell_type": "code",
   "execution_count": 58,
   "metadata": {},
   "outputs": [],
   "source": [
    "del X_train"
   ]
  },
  {
   "cell_type": "code",
   "execution_count": 59,
   "metadata": {},
   "outputs": [
    {
     "name": "stdout",
     "output_type": "stream",
     "text": [
      "Preparing validation dataset...\n"
     ]
    },
    {
     "data": {
      "application/vnd.jupyter.widget-view+json": {
       "model_id": "3318167592be408984c35e456e3739ee",
       "version_major": 2,
       "version_minor": 0
      },
      "text/plain": [
       "  0%|          | 0/1377 [00:00<?, ?it/s]"
      ]
     },
     "metadata": {},
     "output_type": "display_data"
    },
    {
     "name": "stdout",
     "output_type": "stream",
     "text": [
      "Done!\n",
      "\n",
      "\n"
     ]
    }
   ],
   "source": [
    "print(\"Preparing validation dataset...\")\n",
    "\n",
    "X_valid = []\n",
    "\n",
    "\n",
    "for i in tqdm(range(len(case_valid_ids))):\n",
    "    trace = (\n",
    "        tab_valid.query(f\"CaseID == '{case_valid_ids[i]}'\")\n",
    "        .reset_index()\n",
    "        .drop(columns=\"index\")\n",
    "        .drop(columns=\"CaseID\")\n",
    "    )\n",
    "    if len(trace) > 2:\n",
    "        graphs = build_prefixes_graph_from_trace(\n",
    "            dataset=tab_all,\n",
    "            trace=trace,\n",
    "            cat_features=categorical_columns,\n",
    "            real_features=real_value_columns,\n",
    "            caseid=case_valid_ids[i]\n",
    "        )\n",
    "        for i in range(len(graphs)):\n",
    "            X_valid.append(graphs[i])\n",
    "\n",
    "\n",
    "# Y_valid = tensor(Y_valid)\n",
    "\n",
    "print(\"Done!\\n\\n\")"
   ]
  },
  {
   "cell_type": "code",
   "execution_count": 60,
   "metadata": {},
   "outputs": [],
   "source": [
    "with open(data_dir_graphs + dataset + \"_VALID_repair.pkl\", \"wb\") as f:\n",
    "    pickle.dump(X_valid, f)"
   ]
  },
  {
   "cell_type": "code",
   "execution_count": 61,
   "metadata": {},
   "outputs": [],
   "source": [
    "del X_valid"
   ]
  },
  {
   "cell_type": "code",
   "execution_count": 62,
   "metadata": {},
   "outputs": [
    {
     "name": "stdout",
     "output_type": "stream",
     "text": [
      "Preparing test dataset...\n"
     ]
    },
    {
     "data": {
      "application/vnd.jupyter.widget-view+json": {
       "model_id": "30ef0a7a7044408ca64680934c5462a2",
       "version_major": 2,
       "version_minor": 0
      },
      "text/plain": [
       "  0%|          | 0/1378 [00:00<?, ?it/s]"
      ]
     },
     "metadata": {},
     "output_type": "display_data"
    },
    {
     "name": "stdout",
     "output_type": "stream",
     "text": [
      "Done!\n",
      "\n",
      "\n"
     ]
    }
   ],
   "source": [
    "print(\"Preparing test dataset...\")\n",
    "\n",
    "X_test = []\n",
    "\n",
    "\n",
    "for i in tqdm(range(len(case_test_ids))):\n",
    "    trace = (\n",
    "        tab_test.query(f\"CaseID == '{case_test_ids[i]}'\")\n",
    "        .reset_index()\n",
    "        .drop(columns=\"index\")\n",
    "        .drop(columns=\"CaseID\")\n",
    "    )\n",
    "\n",
    "    if len(trace) > 2:\n",
    "        graphs = build_prefixes_graph_from_trace(\n",
    "            dataset=tab_all,\n",
    "            trace=trace,\n",
    "            cat_features=categorical_columns,\n",
    "            real_features=real_value_columns,\n",
    "            caseid=case_test_ids[i]\n",
    "        )\n",
    "        for i in range(len(graphs)):\n",
    "            X_test.append(graphs[i])\n",
    "\n",
    "\n",
    "# Y_test = tensor(Y_test)\n",
    "\n",
    "print(\"Done!\\n\\n\")"
   ]
  },
  {
   "cell_type": "code",
   "execution_count": 63,
   "metadata": {},
   "outputs": [],
   "source": [
    "with open(data_dir_graphs + dataset + \"_TEST_repair.pkl\", \"wb\") as f:\n",
    "    pickle.dump(X_test, f)"
   ]
  },
  {
   "cell_type": "code",
   "execution_count": 64,
   "metadata": {},
   "outputs": [],
   "source": [
    "del X_test"
   ]
  },
  {
   "cell_type": "code",
   "execution_count": 65,
   "metadata": {},
   "outputs": [],
   "source": [
    "def create_and_save_test(case:str):\n",
    "    X_test = []\n",
    "    for i in tqdm(range(len(case_test_ids))):\n",
    "        trace = (\n",
    "            tab_test.query(f\"CaseID == '{case_test_ids[i]}'\")\n",
    "            .reset_index()\n",
    "            .drop(columns=\"index\")\n",
    "            .drop(columns=\"CaseID\")\n",
    "        )\n",
    "\n",
    "        if len(trace) > 2:\n",
    "            graphs = build_prefixes_graph_from_trace(\n",
    "                dataset=tab_all,\n",
    "                trace=trace,\n",
    "                cat_features=categorical_columns,\n",
    "                real_features=real_value_columns,\n",
    "                caseid=case_test_ids[i],\n",
    "                mask_method=case,\n",
    "            )\n",
    "            for i in range(len(graphs)):\n",
    "                X_test.append(graphs[i])\n",
    "    \n",
    "    with open(data_dir_graphs + dataset + f\"_TEST_repair_{case}.pkl\", \"wb\") as f:\n",
    "        pickle.dump(X_test, f)"
   ]
  },
  {
   "cell_type": "code",
   "execution_count": 66,
   "metadata": {},
   "outputs": [
    {
     "data": {
      "application/vnd.jupyter.widget-view+json": {
       "model_id": "f98c0ad27f4d47c59bb35defe2512204",
       "version_major": 2,
       "version_minor": 0
      },
      "text/plain": [
       "  0%|          | 0/1378 [00:00<?, ?it/s]"
      ]
     },
     "metadata": {},
     "output_type": "display_data"
    }
   ],
   "source": [
    "create_and_save_test(\"even\")"
   ]
  },
  {
   "cell_type": "code",
   "execution_count": 67,
   "metadata": {},
   "outputs": [
    {
     "data": {
      "application/vnd.jupyter.widget-view+json": {
       "model_id": "ca57527c97834d948830d317be4f0b6e",
       "version_major": 2,
       "version_minor": 0
      },
      "text/plain": [
       "  0%|          | 0/1378 [00:00<?, ?it/s]"
      ]
     },
     "metadata": {},
     "output_type": "display_data"
    }
   ],
   "source": [
    "create_and_save_test(\"odd\")"
   ]
  },
  {
   "cell_type": "code",
   "execution_count": 68,
   "metadata": {},
   "outputs": [
    {
     "data": {
      "application/vnd.jupyter.widget-view+json": {
       "model_id": "e229f51f63dc41728d135cd803de160a",
       "version_major": 2,
       "version_minor": 0
      },
      "text/plain": [
       "  0%|          | 0/1378 [00:00<?, ?it/s]"
      ]
     },
     "metadata": {},
     "output_type": "display_data"
    }
   ],
   "source": [
    "create_and_save_test(\"random\")"
   ]
  },
  {
   "cell_type": "code",
   "execution_count": 69,
   "metadata": {},
   "outputs": [
    {
     "data": {
      "application/vnd.jupyter.widget-view+json": {
       "model_id": "c5a414ab664a460486df7354ae208442",
       "version_major": 2,
       "version_minor": 0
      },
      "text/plain": [
       "  0%|          | 0/1378 [00:00<?, ?it/s]"
      ]
     },
     "metadata": {},
     "output_type": "display_data"
    }
   ],
   "source": [
    "create_and_save_test(\"window\")"
   ]
  }
 ],
 "metadata": {
  "kernelspec": {
   "display_name": "hgnn_env",
   "language": "python",
   "name": "python3"
  },
  "language_info": {
   "codemirror_mode": {
    "name": "ipython",
    "version": 3
   },
   "file_extension": ".py",
   "mimetype": "text/x-python",
   "name": "python",
   "nbconvert_exporter": "python",
   "pygments_lexer": "ipython3",
   "version": "3.10.12"
  }
 },
 "nbformat": 4,
 "nbformat_minor": 2
}
