{
 "cells": [
  {
   "cell_type": "code",
   "execution_count": 1,
   "metadata": {},
   "outputs": [
    {
     "name": "stdout",
     "output_type": "stream",
     "text": [
      "/home/sebdis/ProcessMining/HGNN/HGNN_NA\n",
      "/home/sebdis/ProcessMining/HGNN/HGNN_NA/data/datasets/comuzzi/_processed/\n",
      "/home/sebdis/ProcessMining/HGNN/HGNN_NA/data/datasets/comuzzi/graphs_repair/\n"
     ]
    }
   ],
   "source": [
    "import torch\n",
    "import pickle\n",
    "import numpy as np\n",
    "import pandas as pd\n",
    "import os\n",
    "import json \n",
    "from os.path import dirname\n",
    "\n",
    "\n",
    "\n",
    "root_path = dirname(os.getcwd()) + \"/HGNN_NA\"\n",
    "\n",
    "pd.set_option(\"display.max_columns\", None)\n",
    "# data_dir = root_path + \"/data/datasets/original/\"\n",
    "data_dir_processed = root_path + \"/data/datasets/_processed/\"\n",
    "data_dir_graphs = root_path + \"/data/datasets/graphs_repair/\"\n",
    "\n",
    "print(root_path, data_dir_processed, data_dir_graphs, sep=\"\\n\")\n",
    "\n",
    "device = torch.device(\"cuda:0\" if torch.cuda.is_available() else \"cpu\")\n",
    "# device = \"cpu\""
   ]
  },
  {
   "cell_type": "code",
   "execution_count": null,
   "metadata": {},
   "outputs": [],
   "source": [
    "ACT_TIME_ONLY = True"
   ]
  },
  {
   "cell_type": "code",
   "execution_count": 2,
   "metadata": {},
   "outputs": [],
   "source": [
    "ACT_TIME_ONLY = False"
   ]
  },
  {
   "cell_type": "code",
   "execution_count": 3,
   "metadata": {},
   "outputs": [],
   "source": [
    "with open(\"data/dataset_features.json\", 'r') as file:\n",
    "    datasets_info = json.load(file)"
   ]
  },
  {
   "cell_type": "code",
   "execution_count": 4,
   "metadata": {},
   "outputs": [
    {
     "data": {
      "text/plain": [
       "['BPI_Challenge_2013_open_problems',\n",
       " 'sp2020',\n",
       " 'Helpdesk',\n",
       " 'BPI20_RequestForPayment',\n",
       " 'BPI Challenge 2017 - Offer log',\n",
       " 'BPI_Challenge_2012_W_Complete',\n",
       " 'BPI_Challenge_2012_A',\n",
       " 'bpi_2012_CZ',\n",
       " 'bpi_2013_CZ',\n",
       " 'large_log_CZ',\n",
       " 'small_log_CZ',\n",
       " 'sp2020_CZ',\n",
       " 'BPI20_RequestForPayment_CZ']"
      ]
     },
     "execution_count": 4,
     "metadata": {},
     "output_type": "execute_result"
    }
   ],
   "source": [
    "list(datasets_info.keys())"
   ]
  },
  {
   "cell_type": "code",
   "execution_count": 22,
   "metadata": {},
   "outputs": [],
   "source": [
    "dataset = \"small_log_CZ\""
   ]
  },
  {
   "cell_type": "code",
   "execution_count": 19,
   "metadata": {},
   "outputs": [],
   "source": [
    "with open(\"data/dataset_features.json\", 'r') as file:\n",
    "    dataset_info = json.load(file)[dataset]"
   ]
  },
  {
   "cell_type": "code",
   "execution_count": 23,
   "metadata": {},
   "outputs": [
    {
     "data": {
      "text/html": [
       "<div>\n",
       "<style scoped>\n",
       "    .dataframe tbody tr th:only-of-type {\n",
       "        vertical-align: middle;\n",
       "    }\n",
       "\n",
       "    .dataframe tbody tr th {\n",
       "        vertical-align: top;\n",
       "    }\n",
       "\n",
       "    .dataframe thead th {\n",
       "        text-align: right;\n",
       "    }\n",
       "</style>\n",
       "<table border=\"1\" class=\"dataframe\">\n",
       "  <thead>\n",
       "    <tr style=\"text-align: right;\">\n",
       "      <th></th>\n",
       "      <th>CaseID</th>\n",
       "      <th>Activity</th>\n",
       "      <th>time:timestamp</th>\n",
       "    </tr>\n",
       "  </thead>\n",
       "  <tbody>\n",
       "    <tr>\n",
       "      <th>0</th>\n",
       "      <td>1</td>\n",
       "      <td>Activity A</td>\n",
       "      <td>0.000000</td>\n",
       "    </tr>\n",
       "    <tr>\n",
       "      <th>1</th>\n",
       "      <td>1</td>\n",
       "      <td>Activity B</td>\n",
       "      <td>8.188689</td>\n",
       "    </tr>\n",
       "    <tr>\n",
       "      <th>2</th>\n",
       "      <td>1</td>\n",
       "      <td>Activity C</td>\n",
       "      <td>8.881836</td>\n",
       "    </tr>\n",
       "    <tr>\n",
       "      <th>3</th>\n",
       "      <td>1</td>\n",
       "      <td>Activity D</td>\n",
       "      <td>9.287301</td>\n",
       "    </tr>\n",
       "    <tr>\n",
       "      <th>4</th>\n",
       "      <td>1</td>\n",
       "      <td>Activity E</td>\n",
       "      <td>9.574983</td>\n",
       "    </tr>\n",
       "  </tbody>\n",
       "</table>\n",
       "</div>"
      ],
      "text/plain": [
       "   CaseID    Activity  time:timestamp\n",
       "0       1  Activity A        0.000000\n",
       "1       1  Activity B        8.188689\n",
       "2       1  Activity C        8.881836\n",
       "3       1  Activity D        9.287301\n",
       "4       1  Activity E        9.574983"
      ]
     },
     "execution_count": 23,
     "metadata": {},
     "output_type": "execute_result"
    }
   ],
   "source": [
    "tab_all = pd.read_csv(f\"{data_dir_processed}/{dataset}/{dataset}_processed_all.csv\") \n",
    "tab_all.head()"
   ]
  },
  {
   "cell_type": "code",
   "execution_count": 24,
   "metadata": {},
   "outputs": [
    {
     "name": "stdout",
     "output_type": "stream",
     "text": [
      "number of events 28000\n",
      "number of traces 2000\n",
      "number of attributes 2\n"
     ]
    }
   ],
   "source": [
    "print(f\"number of events {len(tab_all)}\")\n",
    "print(f\"number of traces {len(tab_all['CaseID'].unique())}\")\n",
    "print(f\"number of attributes {len(tab_all.columns) - 1}\") "
   ]
  },
  {
   "cell_type": "code",
   "execution_count": null,
   "metadata": {},
   "outputs": [],
   "source": [
    "MISSING_VALUE = \"MISSING_VALUE\""
   ]
  },
  {
   "cell_type": "code",
   "execution_count": null,
   "metadata": {},
   "outputs": [],
   "source": [
    "if ACT_TIME_ONLY:\n",
    "    categorical_columns = [\"Activity\"]\n",
    "    real_value_columns = [\"time:timestamp\"]\n",
    "    dataset = f\"{dataset}_AT_only\"\n",
    "else:\n",
    "    categorical_columns = dataset_info[\"categorical\"]\n",
    "    real_value_columns = dataset_info[\"numerical\"]"
   ]
  },
  {
   "cell_type": "code",
   "execution_count": null,
   "metadata": {},
   "outputs": [],
   "source": [
    "list_unique = {k : list(tab_all[k].unique()) + [MISSING_VALUE] for k in categorical_columns}\n",
    "#list_unique"
   ]
  },
  {
   "cell_type": "code",
   "execution_count": null,
   "metadata": {},
   "outputs": [],
   "source": [
    "import random\n",
    "\n",
    "torch.manual_seed(0)\n",
    "torch.cuda.manual_seed(0)\n",
    "random.seed(0)\n",
    "np.random.seed(0)"
   ]
  },
  {
   "cell_type": "code",
   "execution_count": null,
   "metadata": {},
   "outputs": [],
   "source": [
    "with open(data_dir_graphs + dataset + \"_TRAIN_repair.pkl\", \"rb\") as f:\n",
    "    X_train = pickle.load(f)\n",
    "with open(data_dir_graphs + dataset + \"_VALID_repair.pkl\", \"rb\") as f:\n",
    "    X_valid = pickle.load(f)\n",
    "with open(data_dir_graphs + dataset + \"_TEST_repair.pkl\", \"rb\") as f:\n",
    "    X_test = pickle.load(f)"
   ]
  },
  {
   "cell_type": "code",
   "execution_count": null,
   "metadata": {},
   "outputs": [],
   "source": [
    "from torch_geometric.loader import DataLoader\n",
    "from torch_geometric.transforms import ToUndirected\n",
    "\n",
    "transform = ToUndirected()\n",
    "\n",
    "with torch.no_grad():\n",
    "        for i in range(len(X_train)):\n",
    "                X_train[i] = transform(X_train[i])\n",
    "        for i in range(len(X_valid)):\n",
    "                X_valid[i] = transform(X_valid[i])\n",
    "        for i in range(len(X_test)):\n",
    "                X_test[i] = transform(X_test[i])"
   ]
  },
  {
   "cell_type": "code",
   "execution_count": null,
   "metadata": {},
   "outputs": [],
   "source": [
    "edge_types = set()\n",
    "node_types = set()\n",
    "for i in range(len(X_train)):\n",
    "    n, edge_type = X_train[i].metadata()\n",
    "    for x in n:\n",
    "        node_types.add(x)\n",
    "    for x in edge_type:\n",
    "        edge_types.add(x)\n",
    "for i in range(len(X_valid)):\n",
    "    n, edge_type = X_valid[i].metadata()\n",
    "    for x in n:\n",
    "        node_types.add(x)\n",
    "    for x in edge_type:\n",
    "        edge_types.add(x)\n",
    "for i in range(len(X_test)):\n",
    "    n, edge_type = X_test[i].metadata()\n",
    "    for x in n:\n",
    "        node_types.add(x)\n",
    "    for x in edge_type:\n",
    "        edge_types.add(x)\n",
    "        \n",
    "node_types = list(node_types)\n",
    "edge_types = list(edge_types)"
   ]
  },
  {
   "cell_type": "markdown",
   "metadata": {},
   "source": [
    "## Hyperopt"
   ]
  },
  {
   "cell_type": "code",
   "execution_count": null,
   "metadata": {},
   "outputs": [],
   "source": [
    "from ax.service.managed_loop import optimize\n",
    "from torch_geometric.nn import (\n",
    "    HeteroConv,\n",
    "    SAGEConv\n",
    ")\n",
    "from torch.nn import (\n",
    "    ModuleList,\n",
    "    Module,\n",
    "    Linear,\n",
    "    ModuleDict\n",
    "  )\n",
    "from typing_extensions import Self"
   ]
  },
  {
   "cell_type": "code",
   "execution_count": null,
   "metadata": {},
   "outputs": [],
   "source": [
    "class HGNN(Module):\n",
    "\n",
    "    def __init__(self, output_cat, output_real,nodes_relations, parameters) -> Self:  # type: ignore\n",
    "        super().__init__()\n",
    "\n",
    "        # List of convolutional layers\n",
    "        \n",
    "        hid = parameters[\"hid\"]\n",
    "        layers = parameters[\"layers\"]\n",
    "        aggregation = parameters[\"aggregation\"]\n",
    "       \n",
    "        \n",
    "        self.output_cat = output_cat\n",
    "        self.output_real = output_real\n",
    "        \n",
    "        self.convs = ModuleList()\n",
    "        for _ in range(layers):\n",
    "            conv = HeteroConv(\n",
    "                {\n",
    "                    relation: (\n",
    "                        #TransformerConv((-1,-1), hid)\n",
    "                        SAGEConv((-1,-1), aggr=aggregation, out_channels=hid, normalize=False)\n",
    "                        # GATv2Conv((-1,-1), add_self_loops=False, out_channels=hid, concat=False)\n",
    "                    )\n",
    "                    for relation in nodes_relations\n",
    "                },\n",
    "                aggr=aggregation,\n",
    "            )\n",
    "\n",
    "            self.convs.append(conv)\n",
    "\n",
    "        self.FC = ModuleDict()\n",
    "        \n",
    "        for k in output_cat:\n",
    "            self.FC[k] = Linear(hid, output_cat[k], device=device)\n",
    "        for k in output_real:\n",
    "            self.FC[k] = Linear(hid, 1, device=device)\n",
    "        \n",
    "    \n",
    "        \n",
    "        \n",
    "\n",
    "    def forward(self, batch):\n",
    "\n",
    "        for i in range(len(self.convs)):\n",
    "            batch.x_dict = self.convs[i]( \n",
    "                batch.x_dict, batch.edge_index_dict\n",
    "            )\n",
    "            batch.x_dict = {key: x.relu() for key, x in batch.x_dict.items()}\n",
    "\n",
    "        output = {}\n",
    "        \n",
    "        for k in self.output_cat:\n",
    "            output[k] = self.FC[k](batch.x_dict[k][batch.mask])\n",
    "        for k in self.output_real:\n",
    "            output[k] = self.FC[k](batch.x_dict[k][batch.mask]).reshape(1,-1)[0]\n",
    "            \n",
    "\n",
    "        return output"
   ]
  },
  {
   "cell_type": "code",
   "execution_count": null,
   "metadata": {},
   "outputs": [],
   "source": [
    "from torcheval.metrics.functional import multiclass_accuracy, multiclass_f1_score\n",
    "import torch.nn as nn\n",
    "from copy import deepcopy\n",
    "from tqdm.notebook import tqdm\n",
    "\n",
    "\n",
    "def train_hgnn(config, output_cat, output_real, epochs=20):\n",
    "    print(config)\n",
    "\n",
    "    net = HGNN(\n",
    "        parameters=config,\n",
    "        output_cat=output_cat,\n",
    "        output_real=output_real,\n",
    "        nodes_relations=edge_types,\n",
    "    )\n",
    "    net = net.to(device)\n",
    "\n",
    "    losses = {}\n",
    "\n",
    "    for k in output_cat:\n",
    "        losses[k] = nn.CrossEntropyLoss()\n",
    "    for k in output_real:\n",
    "        losses[k] = nn.L1Loss()\n",
    "\n",
    "    train_loader = DataLoader(X_train, batch_size=config[\"batch_size\"], shuffle=True)\n",
    "    valid_loader = DataLoader(X_valid, batch_size=config[\"batch_size\"], shuffle=True)\n",
    "\n",
    "    optimizer = torch.optim.Adam(net.parameters(), lr=config[\"lr\"], weight_decay=config[\"weight_decay\"])\n",
    "\n",
    "    best_model = None\n",
    "    best_loss = 0\n",
    "    patience = 5\n",
    "    pat_count = 0\n",
    "\n",
    "    torch.cuda.empty_cache()\n",
    "\n",
    "    for epoch in tqdm(range(0, epochs)):\n",
    "\n",
    "        net.train()\n",
    "        for _, x in enumerate(train_loader):\n",
    "            x = x.to(device)\n",
    "\n",
    "            # TESTTTTTTTTTTT\n",
    "            #x.mask = torch.full_like(x.mask, fill_value=True)\n",
    "            #########################\n",
    "            \n",
    "            all_labels = x.y\n",
    "            labels = {k: all_labels[k][x.mask] for k in all_labels}\n",
    "\n",
    "            optimizer.zero_grad()\n",
    "            outputs = net(x)\n",
    "\n",
    "            losses_step = {k: losses[k](outputs[k], labels[k]) for k in losses}\n",
    "\n",
    "            total_loss = 0\n",
    "            for k in losses_step:\n",
    "                total_loss += losses_step[k]\n",
    "\n",
    "            total_loss.backward()\n",
    "            optimizer.step()\n",
    "\n",
    "        running_total_loss = []\n",
    "\n",
    "        net.eval()\n",
    "        with torch.no_grad():\n",
    "            for i, x in enumerate(valid_loader):\n",
    "                x = x.to(device)\n",
    "\n",
    "                all_labels = x.y\n",
    "                labels = {k: all_labels[k][x.mask] for k in all_labels}\n",
    "\n",
    "                outputs = net(x)\n",
    "\n",
    "                losses_step = {k: losses[k](outputs[k], labels[k]) for k in losses}\n",
    "\n",
    "                running_total_loss.append(sum(list(losses_step.values())))\n",
    "\n",
    "        val_loss = sum(running_total_loss) / len(running_total_loss)\n",
    "\n",
    "        if epoch == 0:\n",
    "            best_model = deepcopy(net)\n",
    "            best_loss = val_loss\n",
    "        else:\n",
    "            if val_loss < best_loss:\n",
    "                best_loss = val_loss\n",
    "                best_model = deepcopy(net)\n",
    "                pat_count = 0\n",
    "            if pat_count == patience:\n",
    "                return best_model\n",
    "        pat_count += 1\n",
    "\n",
    "    return best_model"
   ]
  },
  {
   "cell_type": "code",
   "execution_count": null,
   "metadata": {},
   "outputs": [],
   "source": [
    "from torch.nn.functional import l1_loss\n",
    " \n",
    "def test_hgnn(net, output_cat, output_real, test_graphs=X_test):\n",
    "    test_loader = DataLoader(test_graphs, batch_size=128, shuffle=False)\n",
    "    \n",
    "    losses = {}\n",
    "    \n",
    "    for k in output_cat:\n",
    "        losses[k] = (\n",
    "            nn.CrossEntropyLoss()\n",
    "        )\n",
    "    for k in output_real:\n",
    "        losses[k] = nn.L1Loss()\n",
    "    \n",
    "    \n",
    "    \n",
    "    \n",
    "    \n",
    "    predictions_categorical = {k: [] for k in output_cat}\n",
    "    target_categorical = {k: [] for k in output_cat}\n",
    "\n",
    "    avg_MAE = {k : [] for k in output_real}\n",
    "    prediction_numerical = {k: [] for k in output_real}\n",
    "    target_numerical = {k: [] for k in output_real}\n",
    "    \n",
    "    total_loss = []\n",
    "        \n",
    "    net.eval()\n",
    "    with torch.no_grad():\n",
    "        for _, x in enumerate(test_loader):\n",
    "            x = x.to(device)\n",
    "            \n",
    "            all_labels = x.y\n",
    "            labels = {k : all_labels[k][x.mask] for k in all_labels}\n",
    "            \n",
    "            outputs = net(x)\n",
    "            \n",
    "     \n",
    "            losses_step = {k: losses[k](outputs[k], labels[k]).item() for k in losses}\n",
    "            total_loss.append(sum(list(losses_step.values())))\n",
    "            \n",
    "            for k in output_cat:\n",
    "                predictions_categorical[k].append(\n",
    "                        torch.argmax(torch.softmax(outputs[k], dim=1), 1)\n",
    "                )\n",
    "                target_categorical[k].append(labels[k])\n",
    "            \n",
    "            \n",
    "            for k in output_real:\n",
    "                prediction_numerical[k].append(\n",
    "                    outputs[k]\n",
    "                )\n",
    "                target_numerical[k].append(\n",
    "                    labels[k]\n",
    "                )\n",
    "                avg_MAE[k].append(losses_step[k])\n",
    "                    \n",
    "    for k in predictions_categorical:\n",
    "            predictions_categorical[k] = torch.cat(predictions_categorical[k])\n",
    "            target_categorical[k] = torch.cat(target_categorical[k])\n",
    "               \n",
    "    for k in prediction_numerical:\n",
    "        prediction_numerical[k] = torch.cat(prediction_numerical[k])\n",
    "        target_numerical[k] = torch.cat(target_numerical[k])\n",
    "   \n",
    "    \n",
    "    MAE = {\n",
    "        k: l1_loss(prediction_numerical[k], target_numerical[k]).item()\n",
    "        for k in output_real\n",
    "    }\n",
    "    \n",
    "    accuracy = {\n",
    "            k: multiclass_accuracy(\n",
    "                predictions_categorical[k],\n",
    "                target_categorical[k],\n",
    "                num_classes=output_cat[k],\n",
    "            )\n",
    "            for k in output_cat\n",
    "        }\n",
    "    \n",
    "    avg_MAE = {k : sum(avg_MAE[k]) / len(avg_MAE[k]) for k in avg_MAE}\n",
    "    \n",
    "    \n",
    "    Average_total_loss = sum(total_loss) / len(total_loss)\n",
    "    \n",
    "    res = {f\"{k}_acc\" : accuracy[k].item() for k in accuracy} | {f\"{k}_mae\" : avg_MAE[k] for k in avg_MAE} | {\"AVG_total_loss\" : Average_total_loss}  | {f\"MAE_{k}\" : MAE[k] for k in MAE}\n",
    "    \n",
    "    print(res)\n",
    "    \n",
    "    return res"
   ]
  },
  {
   "cell_type": "code",
   "execution_count": null,
   "metadata": {},
   "outputs": [],
   "source": [
    "outputcat = {k : len(list_unique[k]) for k in list_unique}\n",
    "outputreal = real_value_columns\n",
    "print(outputcat)\n",
    "print(outputreal)"
   ]
  },
  {
   "cell_type": "code",
   "execution_count": null,
   "metadata": {},
   "outputs": [],
   "source": [
    "def train_evaluate(config):\n",
    "    trained_net = train_hgnn(config, output_cat=outputcat, output_real=outputreal, epochs=50)\n",
    "    return test_hgnn(trained_net, output_cat=outputcat, output_real=outputreal)"
   ]
  },
  {
   "cell_type": "code",
   "execution_count": null,
   "metadata": {},
   "outputs": [],
   "source": [
    "import logging\n",
    "\n",
    "logging.getLogger(\"root\").setLevel(logging.ERROR)\n",
    "\n",
    "import warnings\n",
    "warnings.filterwarnings(\"ignore\", category=UserWarning)"
   ]
  },
  {
   "cell_type": "code",
   "execution_count": null,
   "metadata": {},
   "outputs": [],
   "source": [
    "#outputreal = ['time:timestamp']\n",
    "#outputcat = {\"Activity\" : outputcat[\"Activity\"]}\n",
    "#print(outputcat)"
   ]
  },
  {
   "cell_type": "code",
   "execution_count": null,
   "metadata": {},
   "outputs": [],
   "source": [
    "best_parameters, values, experiment, model = optimize(\n",
    "    parameters=[\n",
    "        {\"name\": \"hid\", \"type\": \"choice\", \"values\": [128], \"value_type\": \"int\", \"is_ordered\" : True,\"sort_values\":False},\n",
    "        #{\"name\": \"layers\", \"type\": \"choice\", \"values\": [2, 3, 4, 5], \"value_type\": \"int\", \"is_ordered\" : True, \"sort_values\":False},\n",
    "        {\"name\": \"layers\", \"type\": \"choice\", \"values\": [2], \"value_type\": \"int\", \"is_ordered\" : True, \"sort_values\":False},\n",
    "        {\"name\": \"lr\", \"type\": \"range\", \"bounds\": [1e-4, 1e-1], \"value_type\": \"float\", \"log_scale\": True},\n",
    "        {\"name\": \"batch_size\", \"type\": \"choice\", \"values\": [128,256,512], \"value_type\": \"int\", \"is_ordered\" : True,\"sort_values\":False},\n",
    "        #{\"name\": \"batch_size\", \"type\": \"choice\", \"values\": [16, 64, 128], \"value_type\": \"int\", \"is_ordered\" : True,\"sort_values\":False}, \n",
    "        {\"name\": \"weight_decay\", \"type\": \"range\", \"bounds\" : [1e-2, 1e-1], \"value_type\": \"float\", \"log_scale\" : True}, \n",
    "        #{\"name\": \"heads\", \"type\": \"choice\", \"values\": [1,2], \"value_type\": \"int\", \"is_ordered\" : True,\"sort_values\":False},\n",
    "        #{\"name\": \"heads\", \"type\": \"choice\", \"values\": [1], \"value_type\": \"int\", \"is_ordered\" : True,\"sort_values\":False},\n",
    "        \n",
    "        #{\"name\": \"aggregation\", \"type\" : \"choice\", \"values\" :[\"sum\", \"mean\", \"max\"], \"value_type\" : \"str\"}\n",
    "        {\"name\": \"aggregation\", \"type\" : \"choice\", \"values\" :[\"max\"], \"value_type\" : \"str\"},\n",
    "     \n",
    "    ],\n",
    "  \n",
    "    evaluation_function=train_evaluate,\n",
    "    objective_name='AVG_total_loss',\n",
    "    arms_per_trial=1,\n",
    "    minimize = True,\n",
    "    random_seed = 123,\n",
    "    total_trials = 20\n",
    ")\n",
    "\n",
    "print(best_parameters)\n",
    "means, covariances = values\n",
    "print(means)\n",
    "print(experiment)"
   ]
  },
  {
   "cell_type": "code",
   "execution_count": null,
   "metadata": {},
   "outputs": [],
   "source": [
    "from ax.service.utils.report_utils import exp_to_df\n",
    "\n",
    "results = exp_to_df(experiment)"
   ]
  },
  {
   "cell_type": "code",
   "execution_count": null,
   "metadata": {},
   "outputs": [],
   "source": [
    "results.sort_values(by=\"AVG_total_loss\")"
   ]
  },
  {
   "cell_type": "code",
   "execution_count": null,
   "metadata": {},
   "outputs": [],
   "source": []
  },
  {
   "cell_type": "markdown",
   "metadata": {},
   "source": []
  },
  {
   "cell_type": "code",
   "execution_count": null,
   "metadata": {},
   "outputs": [],
   "source": [
    "results = results.sort_values(by=\"AVG_total_loss\")"
   ]
  },
  {
   "cell_type": "code",
   "execution_count": null,
   "metadata": {},
   "outputs": [],
   "source": [
    "results.to_csv(f\"repair_results/{dataset}_CONFIGS.csv\", sep=\",\")"
   ]
  },
  {
   "cell_type": "markdown",
   "metadata": {},
   "source": [
    "## Test on different test sets"
   ]
  },
  {
   "cell_type": "code",
   "execution_count": null,
   "metadata": {},
   "outputs": [],
   "source": [
    "test_types = [\"even\", \"odd\", \"window\", \"random\"]"
   ]
  },
  {
   "cell_type": "code",
   "execution_count": null,
   "metadata": {},
   "outputs": [],
   "source": [
    "import pandas\n",
    "\n",
    "\n",
    "def create_df(results):\n",
    "    res = {}\n",
    "    \n",
    "    for k in results[0]:\n",
    "        res[k] = [x[k] for x in results]\n",
    "    \n",
    "    res = pandas.DataFrame(data=res)\n",
    "    \n",
    "    return res, res.mean(), res.std()\n",
    "        \n",
    "    "
   ]
  },
  {
   "cell_type": "code",
   "execution_count": null,
   "metadata": {},
   "outputs": [],
   "source": [
    "def test_multi(config, outputcat, outputreal, num_runs=10, num_epochs=20):\n",
    "    \n",
    "    res = {}\n",
    "    \n",
    "    save_path = f\"repair_results/{dataset}/\"\n",
    "    \n",
    "    if not os.path.isdir(save_path):\n",
    "        os.makedirs(save_path)\n",
    "    \n",
    "    for i in range(num_runs):\n",
    "        \n",
    "        print(f\"Run {i}\")\n",
    "        \n",
    "        net = train_hgnn(\n",
    "                config, \n",
    "                outputcat,\n",
    "                outputreal,\n",
    "                num_epochs\n",
    "            )\n",
    "        \n",
    "        \n",
    "        \n",
    "        for test_type in test_types:\n",
    "            \n",
    "            print(f\"Test type {test_type}\")\n",
    "            \n",
    "            with open(data_dir_graphs + dataset + f\"_TEST_repair_{test_type}.pkl\", \"rb\") as f:\n",
    "                X = pickle.load(f)    \n",
    "                \n",
    "            for i in range(len(X)):\n",
    "                X[i] = transform(X[i])\n",
    "\n",
    "            if test_type not in res:\n",
    "                res[test_type] = []\n",
    "            \n",
    "           \n",
    "                \n",
    "            \n",
    "                \n",
    "            res[test_type].append(\n",
    "                test_hgnn(\n",
    "                    net,\n",
    "                    outputcat,\n",
    "                    outputreal,\n",
    "                    test_graphs=X\n",
    "                )\n",
    "            )\n",
    "    \n",
    "    for test_type in test_types:    \n",
    "        results_table, means, stds = create_df(res[test_type])\n",
    "                \n",
    "        results_table.to_csv(f\"{save_path}{test_type}_RESULTS.csv\", sep=\",\", index=False)\n",
    "        \n",
    "        pd.DataFrame(data={\"mean\" : means, \"std\" : stds}).to_csv(f\"{save_path}{test_type}_MEAN_STD.csv\", sep=\",\")\n",
    "        \n",
    "        print(test_type)\n",
    "        print(pd.DataFrame(data={\"mean\" : means, \"std\" : stds}))\n",
    "        \n",
    "        \n",
    "    \n",
    "    return res"
   ]
  },
  {
   "cell_type": "code",
   "execution_count": null,
   "metadata": {},
   "outputs": [],
   "source": [
    "res = test_multi(best_parameters, outputcat, outputreal, 10, 50)"
   ]
  }
 ],
 "metadata": {
  "kernelspec": {
   "display_name": "hgnn_env",
   "language": "python",
   "name": "python3"
  },
  "language_info": {
   "codemirror_mode": {
    "name": "ipython",
    "version": 3
   },
   "file_extension": ".py",
   "mimetype": "text/x-python",
   "name": "python",
   "nbconvert_exporter": "python",
   "pygments_lexer": "ipython3",
   "version": "3.10.12"
  }
 },
 "nbformat": 4,
 "nbformat_minor": 2
}
